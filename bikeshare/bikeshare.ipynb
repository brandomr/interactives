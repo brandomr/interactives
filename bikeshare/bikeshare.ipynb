{
 "cells": [
  {
   "cell_type": "code",
   "execution_count": 3,
   "metadata": {
    "collapsed": false
   },
   "outputs": [
    {
     "name": "stdout",
     "output_type": "stream",
     "text": [
      "41315_to_41915.csv  bikeshare.ipynb\r\n"
     ]
    }
   ],
   "source": [
    "ls"
   ]
  },
  {
   "cell_type": "code",
   "execution_count": 21,
   "metadata": {
    "collapsed": false
   },
   "outputs": [],
   "source": [
    "%matplotlib inline"
   ]
  },
  {
   "cell_type": "code",
   "execution_count": 2,
   "metadata": {
    "collapsed": false
   },
   "outputs": [],
   "source": [
    "import pandas as pd\n",
    "import matplotlib.pylab"
   ]
  },
  {
   "cell_type": "code",
   "execution_count": 9,
   "metadata": {
    "collapsed": false
   },
   "outputs": [],
   "source": [
    "data = pd.read_csv('41315_to_41915.csv', header=0)"
   ]
  },
  {
   "cell_type": "code",
   "execution_count": 10,
   "metadata": {
    "collapsed": false
   },
   "outputs": [
    {
     "data": {
      "text/html": [
       "<div style=\"max-height:1000px;max-width:1500px;overflow:auto;\">\n",
       "<table border=\"1\" class=\"dataframe\">\n",
       "  <thead>\n",
       "    <tr style=\"text-align: right;\">\n",
       "      <th></th>\n",
       "      <th>Terminal Number</th>\n",
       "      <th>Station Name</th>\n",
       "      <th>Status</th>\n",
       "      <th>Start</th>\n",
       "      <th>End</th>\n",
       "      <th>Duration</th>\n",
       "    </tr>\n",
       "  </thead>\n",
       "  <tbody>\n",
       "    <tr>\n",
       "      <th>0</th>\n",
       "      <td> 31101</td>\n",
       "      <td>                14th &amp; V St NW</td>\n",
       "      <td>  full</td>\n",
       "      <td> 2015-04-19 22:20:16</td>\n",
       "      <td> 2015-04-19 23:02:44</td>\n",
       "      <td>  42</td>\n",
       "    </tr>\n",
       "    <tr>\n",
       "      <th>1</th>\n",
       "      <td> 31257</td>\n",
       "      <td> 22nd &amp; I St NW / Foggy Bottom</td>\n",
       "      <td>  full</td>\n",
       "      <td> 2015-04-19 20:35:04</td>\n",
       "      <td> 2015-04-19 22:38:28</td>\n",
       "      <td> 123</td>\n",
       "    </tr>\n",
       "    <tr>\n",
       "      <th>2</th>\n",
       "      <td> 31280</td>\n",
       "      <td>                11th &amp; S St NW</td>\n",
       "      <td>  full</td>\n",
       "      <td> 2015-04-19 21:12:30</td>\n",
       "      <td> 2015-04-19 21:37:48</td>\n",
       "      <td>  25</td>\n",
       "    </tr>\n",
       "    <tr>\n",
       "      <th>3</th>\n",
       "      <td> 31632</td>\n",
       "      <td>                15th &amp; F St NE</td>\n",
       "      <td>  full</td>\n",
       "      <td> 2015-04-19 21:14:32</td>\n",
       "      <td> 2015-04-19 21:33:45</td>\n",
       "      <td>  19</td>\n",
       "    </tr>\n",
       "    <tr>\n",
       "      <th>4</th>\n",
       "      <td> 31121</td>\n",
       "      <td>    Calvert St &amp; Woodley Pl NW</td>\n",
       "      <td> empty</td>\n",
       "      <td> 2015-04-19 19:15:11</td>\n",
       "      <td> 2015-04-19 21:29:42</td>\n",
       "      <td> 135</td>\n",
       "    </tr>\n",
       "  </tbody>\n",
       "</table>\n",
       "</div>"
      ],
      "text/plain": [
       "   Terminal Number                   Station Name Status                Start  \\\n",
       "0            31101                 14th & V St NW   full  2015-04-19 22:20:16   \n",
       "1            31257  22nd & I St NW / Foggy Bottom   full  2015-04-19 20:35:04   \n",
       "2            31280                 11th & S St NW   full  2015-04-19 21:12:30   \n",
       "3            31632                 15th & F St NE   full  2015-04-19 21:14:32   \n",
       "4            31121     Calvert St & Woodley Pl NW  empty  2015-04-19 19:15:11   \n",
       "\n",
       "                   End  Duration  \n",
       "0  2015-04-19 23:02:44        42  \n",
       "1  2015-04-19 22:38:28       123  \n",
       "2  2015-04-19 21:37:48        25  \n",
       "3  2015-04-19 21:33:45        19  \n",
       "4  2015-04-19 21:29:42       135  "
      ]
     },
     "execution_count": 10,
     "metadata": {},
     "output_type": "execute_result"
    }
   ],
   "source": [
    "data.head()"
   ]
  },
  {
   "cell_type": "code",
   "execution_count": 11,
   "metadata": {
    "collapsed": false
   },
   "outputs": [],
   "source": [
    "data['start_time'] = data['Start'].apply(lambda(x): pd.to_datetime(x))\n",
    "data['end_time'] = data['End'].apply(lambda(x): pd.to_datetime(x))\n",
    "data = data.drop('Start', 1)\n",
    "data = data.drop('End', 1)"
   ]
  },
  {
   "cell_type": "code",
   "execution_count": 12,
   "metadata": {
    "collapsed": false,
    "scrolled": true
   },
   "outputs": [
    {
     "data": {
      "text/html": [
       "<div style=\"max-height:1000px;max-width:1500px;overflow:auto;\">\n",
       "<table border=\"1\" class=\"dataframe\">\n",
       "  <thead>\n",
       "    <tr style=\"text-align: right;\">\n",
       "      <th></th>\n",
       "      <th>Terminal Number</th>\n",
       "      <th>Station Name</th>\n",
       "      <th>Status</th>\n",
       "      <th>Duration</th>\n",
       "      <th>start_time</th>\n",
       "      <th>end_time</th>\n",
       "    </tr>\n",
       "  </thead>\n",
       "  <tbody>\n",
       "    <tr>\n",
       "      <th>0</th>\n",
       "      <td> 31101</td>\n",
       "      <td>                14th &amp; V St NW</td>\n",
       "      <td>  full</td>\n",
       "      <td>  42</td>\n",
       "      <td>2015-04-19 22:20:16</td>\n",
       "      <td>2015-04-19 23:02:44</td>\n",
       "    </tr>\n",
       "    <tr>\n",
       "      <th>1</th>\n",
       "      <td> 31257</td>\n",
       "      <td> 22nd &amp; I St NW / Foggy Bottom</td>\n",
       "      <td>  full</td>\n",
       "      <td> 123</td>\n",
       "      <td>2015-04-19 20:35:04</td>\n",
       "      <td>2015-04-19 22:38:28</td>\n",
       "    </tr>\n",
       "    <tr>\n",
       "      <th>2</th>\n",
       "      <td> 31280</td>\n",
       "      <td>                11th &amp; S St NW</td>\n",
       "      <td>  full</td>\n",
       "      <td>  25</td>\n",
       "      <td>2015-04-19 21:12:30</td>\n",
       "      <td>2015-04-19 21:37:48</td>\n",
       "    </tr>\n",
       "    <tr>\n",
       "      <th>3</th>\n",
       "      <td> 31632</td>\n",
       "      <td>                15th &amp; F St NE</td>\n",
       "      <td>  full</td>\n",
       "      <td>  19</td>\n",
       "      <td>2015-04-19 21:14:32</td>\n",
       "      <td>2015-04-19 21:33:45</td>\n",
       "    </tr>\n",
       "    <tr>\n",
       "      <th>4</th>\n",
       "      <td> 31121</td>\n",
       "      <td>    Calvert St &amp; Woodley Pl NW</td>\n",
       "      <td> empty</td>\n",
       "      <td> 135</td>\n",
       "      <td>2015-04-19 19:15:11</td>\n",
       "      <td>2015-04-19 21:29:42</td>\n",
       "    </tr>\n",
       "  </tbody>\n",
       "</table>\n",
       "</div>"
      ],
      "text/plain": [
       "   Terminal Number                   Station Name Status  Duration  \\\n",
       "0            31101                 14th & V St NW   full        42   \n",
       "1            31257  22nd & I St NW / Foggy Bottom   full       123   \n",
       "2            31280                 11th & S St NW   full        25   \n",
       "3            31632                 15th & F St NE   full        19   \n",
       "4            31121     Calvert St & Woodley Pl NW  empty       135   \n",
       "\n",
       "           start_time            end_time  \n",
       "0 2015-04-19 22:20:16 2015-04-19 23:02:44  \n",
       "1 2015-04-19 20:35:04 2015-04-19 22:38:28  \n",
       "2 2015-04-19 21:12:30 2015-04-19 21:37:48  \n",
       "3 2015-04-19 21:14:32 2015-04-19 21:33:45  \n",
       "4 2015-04-19 19:15:11 2015-04-19 21:29:42  "
      ]
     },
     "execution_count": 12,
     "metadata": {},
     "output_type": "execute_result"
    }
   ],
   "source": [
    "data.head()"
   ]
  },
  {
   "cell_type": "code",
   "execution_count": 28,
   "metadata": {
    "collapsed": true
   },
   "outputs": [],
   "source": [
    "stations = pd.Series(data['Station Name'].unique())"
   ]
  },
  {
   "cell_type": "code",
   "execution_count": 13,
   "metadata": {
    "collapsed": false
   },
   "outputs": [],
   "source": [
    "empty = data[data['Status'] == 'empty']\n",
    "full = data[data['Status'] == 'full']"
   ]
  },
  {
   "cell_type": "markdown",
   "metadata": {},
   "source": [
    "Check if empty and full sum to total data"
   ]
  },
  {
   "cell_type": "code",
   "execution_count": 14,
   "metadata": {
    "collapsed": false
   },
   "outputs": [
    {
     "name": "stdout",
     "output_type": "stream",
     "text": [
      "True\n"
     ]
    }
   ],
   "source": [
    "if (len(empty) + len(full) == len(data)):\n",
    "    print True\n",
    "else:\n",
    "    print False"
   ]
  },
  {
   "cell_type": "code",
   "execution_count": 15,
   "metadata": {
    "collapsed": false
   },
   "outputs": [
    {
     "data": {
      "text/html": [
       "<div style=\"max-height:1000px;max-width:1500px;overflow:auto;\">\n",
       "<table border=\"1\" class=\"dataframe\">\n",
       "  <thead>\n",
       "    <tr style=\"text-align: right;\">\n",
       "      <th></th>\n",
       "      <th>Terminal Number</th>\n",
       "      <th>Station Name</th>\n",
       "      <th>Status</th>\n",
       "      <th>Duration</th>\n",
       "      <th>start_time</th>\n",
       "      <th>end_time</th>\n",
       "    </tr>\n",
       "  </thead>\n",
       "  <tbody>\n",
       "    <tr>\n",
       "      <th>4 </th>\n",
       "      <td> 31121</td>\n",
       "      <td> Calvert St &amp; Woodley Pl NW</td>\n",
       "      <td> empty</td>\n",
       "      <td> 135</td>\n",
       "      <td>2015-04-19 19:15:11</td>\n",
       "      <td>2015-04-19 21:29:42</td>\n",
       "    </tr>\n",
       "    <tr>\n",
       "      <th>7 </th>\n",
       "      <td> 31602</td>\n",
       "      <td>    Park Rd &amp; Holmead Pl NW</td>\n",
       "      <td> empty</td>\n",
       "      <td>  30</td>\n",
       "      <td>2015-04-19 20:51:16</td>\n",
       "      <td>2015-04-19 21:21:36</td>\n",
       "    </tr>\n",
       "    <tr>\n",
       "      <th>10</th>\n",
       "      <td> 31602</td>\n",
       "      <td>    Park Rd &amp; Holmead Pl NW</td>\n",
       "      <td> empty</td>\n",
       "      <td>  15</td>\n",
       "      <td>2015-04-19 20:27:59</td>\n",
       "      <td>2015-04-19 20:43:10</td>\n",
       "    </tr>\n",
       "    <tr>\n",
       "      <th>15</th>\n",
       "      <td> 31105</td>\n",
       "      <td>       14th &amp; Harvard St NW</td>\n",
       "      <td> empty</td>\n",
       "      <td>  32</td>\n",
       "      <td>2015-04-19 19:34:24</td>\n",
       "      <td>2015-04-19 20:06:45</td>\n",
       "    </tr>\n",
       "    <tr>\n",
       "      <th>20</th>\n",
       "      <td> 31029</td>\n",
       "      <td>      N Veitch  &amp; 20th St N</td>\n",
       "      <td> empty</td>\n",
       "      <td>  16</td>\n",
       "      <td>2015-04-19 19:25:17</td>\n",
       "      <td>2015-04-19 19:41:28</td>\n",
       "    </tr>\n",
       "  </tbody>\n",
       "</table>\n",
       "</div>"
      ],
      "text/plain": [
       "    Terminal Number                Station Name Status  Duration  \\\n",
       "4             31121  Calvert St & Woodley Pl NW  empty       135   \n",
       "7             31602     Park Rd & Holmead Pl NW  empty        30   \n",
       "10            31602     Park Rd & Holmead Pl NW  empty        15   \n",
       "15            31105        14th & Harvard St NW  empty        32   \n",
       "20            31029       N Veitch  & 20th St N  empty        16   \n",
       "\n",
       "            start_time            end_time  \n",
       "4  2015-04-19 19:15:11 2015-04-19 21:29:42  \n",
       "7  2015-04-19 20:51:16 2015-04-19 21:21:36  \n",
       "10 2015-04-19 20:27:59 2015-04-19 20:43:10  \n",
       "15 2015-04-19 19:34:24 2015-04-19 20:06:45  \n",
       "20 2015-04-19 19:25:17 2015-04-19 19:41:28  "
      ]
     },
     "execution_count": 15,
     "metadata": {},
     "output_type": "execute_result"
    }
   ],
   "source": [
    "empty.head()"
   ]
  },
  {
   "cell_type": "code",
   "execution_count": 19,
   "metadata": {
    "collapsed": false
   },
   "outputs": [
    {
     "data": {
      "text/plain": [
       "Timestamp('2015-04-19 19:15:11')"
      ]
     },
     "execution_count": 19,
     "metadata": {},
     "output_type": "execute_result"
    }
   ],
   "source": [
    "empty['start_time'][4]"
   ]
  },
  {
   "cell_type": "code",
   "execution_count": 62,
   "metadata": {
    "collapsed": false
   },
   "outputs": [
    {
     "name": "stdout",
     "output_type": "stream",
     "text": [
      "2015-04-12 21:29:03\n",
      "2015-04-19 23:02:44\n"
     ]
    }
   ],
   "source": [
    "print data['start_time'].min()\n",
    "print data['end_time'].max()"
   ]
  },
  {
   "cell_type": "code",
   "execution_count": 34,
   "metadata": {
    "collapsed": false
   },
   "outputs": [],
   "source": [
    "rng = pd.date_range('4/12/2015 23:00', periods=170, freq='H')"
   ]
  },
  {
   "cell_type": "markdown",
   "metadata": {},
   "source": [
    "Calculate counts per hour for each station by hour of the day"
   ]
  },
  {
   "cell_type": "code",
   "execution_count": 395,
   "metadata": {
    "collapsed": false
   },
   "outputs": [],
   "source": [
    "def get_freq(status):\n",
    "\n",
    "    freq = pd.DataFrame(columns=['hour','station', 'count'])\n",
    "\n",
    "    for station in stations:\n",
    "        \n",
    "        if status == 'empty':\n",
    "            freq_station = empty[empty['Station Name'] == station ]\n",
    "        else:\n",
    "            freq_station = full[full['Station Name'] == station ]\n",
    "\n",
    "        station_times = pd.DataFrame()\n",
    "        station_times['hour'] = rng\n",
    "        station_times['station'] = station\n",
    "        station_times['count'] = 0\n",
    "\n",
    "        for index,item in station_times.iterrows():\n",
    "\n",
    "            for index,row in freq_station.iterrows():\n",
    "                start = pd.datetime(row['start_time'].year, row['start_time'].month, row['start_time'].day, row['start_time'].hour)\n",
    "                end = pd.datetime(row['end_time'].year, row['end_time'].month, row['end_time'].day, row['end_time'].hour)\n",
    "\n",
    "                if start <= item['hour'] and end >= item['hour']:\n",
    "                    station_times.ix[item.name, 'count'] += 1\n",
    "\n",
    "        freq = freq.append(station_times)\n",
    "        \n",
    "    return freq"
   ]
  },
  {
   "cell_type": "code",
   "execution_count": 396,
   "metadata": {
    "collapsed": false
   },
   "outputs": [
    {
     "name": "stdout",
     "output_type": "stream",
     "text": [
      "CPU times: user 1min 52s, sys: 902 ms, total: 1min 53s\n",
      "Wall time: 1min 53s\n"
     ]
    }
   ],
   "source": [
    "%time freq_empty = get_freq('empty')"
   ]
  },
  {
   "cell_type": "code",
   "execution_count": 398,
   "metadata": {
    "collapsed": false
   },
   "outputs": [
    {
     "name": "stdout",
     "output_type": "stream",
     "text": [
      "CPU times: user 1min 41s, sys: 746 ms, total: 1min 42s\n",
      "Wall time: 4min 21s\n"
     ]
    }
   ],
   "source": [
    "%time freq_full = get_freq('full')"
   ]
  },
  {
   "cell_type": "code",
   "execution_count": 400,
   "metadata": {
    "collapsed": false
   },
   "outputs": [],
   "source": [
    "freq_full_hourly = freq_full.groupby('hour')['count'].sum()"
   ]
  },
  {
   "cell_type": "code",
   "execution_count": 401,
   "metadata": {
    "collapsed": false
   },
   "outputs": [],
   "source": [
    "freq_empty_hourly = freq_empty.groupby('hour')['count'].sum()"
   ]
  },
  {
   "cell_type": "code",
   "execution_count": 418,
   "metadata": {
    "collapsed": false
   },
   "outputs": [],
   "source": [
    "freq = pd.DataFrame()\n",
    "freq['count_full'] = freq_full_hourly.values\n",
    "freq['count_empty'] = freq_empty_hourly.values\n",
    "freq.index = rng\n",
    "freq = freq[1:169]"
   ]
  },
  {
   "cell_type": "code",
   "execution_count": 22,
   "metadata": {
    "collapsed": false,
    "scrolled": true
   },
   "outputs": [
    {
     "data": {
      "text/plain": [
       "<matplotlib.axes._subplots.AxesSubplot at 0x11054e6d0>"
      ]
     },
     "execution_count": 22,
     "metadata": {},
     "output_type": "execute_result"
    },
    {
     "data": {
      "image/png": "[encoded data removed]",
      "text/plain": [
       "<matplotlib.figure.Figure at 0x10feee5d0>"
      ]
     },
     "metadata": {},
     "output_type": "display_data"
    }
   ],
   "source": [
    "freq.plot()"
   ]
  },
  {
   "cell_type": "code",
   "execution_count": 3,
   "metadata": {
    "collapsed": false,
    "scrolled": true
   },
   "outputs": [],
   "source": [
    "freq = pd.read_csv('frequency_counts.csv', index_col=0)"
   ]
  },
  {
   "cell_type": "code",
   "execution_count": 55,
   "metadata": {
    "collapsed": false,
    "scrolled": true
   },
   "outputs": [],
   "source": [
    "freq['time'] = freq.index.to_series().apply(lambda (x): pd.to_datetime(x).strftime(format='%m/%d/%Y %H:%M'))"
   ]
  },
  {
   "cell_type": "code",
   "execution_count": 75,
   "metadata": {
    "collapsed": false
   },
   "outputs": [],
   "source": [
    "test = freq.to_json(orient='index')"
   ]
  },
  {
   "cell_type": "code",
   "execution_count": 77,
   "metadata": {
    "collapsed": false
   },
   "outputs": [],
   "source": [
    "test = freq.T.to_dict().values()"
   ]
  },
  {
   "cell_type": "code",
   "execution_count": 78,
   "metadata": {
    "collapsed": false
   },
   "outputs": [
    {
     "data": {
      "text/plain": [
       "[{'count_empty': 19.0, 'count_full': 29.0, 'time': '04/17/2015 23:00'},\n",
       " {'count_empty': 6.0, 'count_full': 10.0, 'time': '04/13/2015 03:00'},\n",
       " {'count_empty': 11.0, 'count_full': 27.0, 'time': '04/18/2015 03:00'},\n",
       " {'count_empty': 50.0, 'count_full': 49.0, 'time': '04/16/2015 21:00'},\n",
       " {'count_empty': 100.0, 'count_full': 56.0, 'time': '04/18/2015 19:00'},\n",
       " {'count_empty': 41.0, 'count_full': 76.0, 'time': '04/13/2015 15:00'},\n",
       " {'count_empty': 1.0, 'count_full': 6.0, 'time': '04/14/2015 13:00'},\n",
       " {'count_empty': 91.0, 'count_full': 92.0, 'time': '04/15/2015 09:00'},\n",
       " {'count_empty': 4.0, 'count_full': 27.0, 'time': '04/19/2015 05:00'},\n",
       " {'count_empty': 19.0, 'count_full': 41.0, 'time': '04/17/2015 22:00'},\n",
       " {'count_empty': 16.0, 'count_full': 17.0, 'time': '04/17/2015 07:00'},\n",
       " {'count_empty': 81.0, 'count_full': 92.0, 'time': '04/13/2015 10:00'},\n",
       " {'count_empty': 66.0, 'count_full': 59.0, 'time': '04/17/2015 19:00'},\n",
       " {'count_empty': 10.0, 'count_full': 26.0, 'time': '04/18/2015 07:00'},\n",
       " {'count_empty': 2.0, 'count_full': 3.0, 'time': '04/14/2015 14:00'},\n",
       " {'count_empty': 7.0, 'count_full': 16.0, 'time': '04/17/2015 03:00'},\n",
       " {'count_empty': 11.0, 'count_full': 22.0, 'time': '04/14/2015 21:00'},\n",
       " {'count_empty': 79.0, 'count_full': 58.0, 'time': '04/16/2015 17:00'},\n",
       " {'count_empty': 64.0, 'count_full': 51.0, 'time': '04/19/2015 17:00'},\n",
       " {'count_empty': 87.0, 'count_full': 47.0, 'time': '04/15/2015 08:00'},\n",
       " {'count_empty': 60.0, 'count_full': 84.0, 'time': '04/15/2015 10:00'},\n",
       " {'count_empty': 55.0, 'count_full': 29.0, 'time': '04/19/2015 11:00'},\n",
       " {'count_empty': 164.0, 'count_full': 40.0, 'time': '04/18/2015 15:00'},\n",
       " {'count_empty': 23.0, 'count_full': 51.0, 'time': '04/13/2015 23:00'},\n",
       " {'count_empty': 36.0, 'count_full': 14.0, 'time': '04/19/2015 10:00'},\n",
       " {'count_empty': 59.0, 'count_full': 99.0, 'time': '04/13/2015 14:00'},\n",
       " {'count_empty': 9.0, 'count_full': 8.0, 'time': '04/13/2015 05:00'},\n",
       " {'count_empty': 46.0, 'count_full': 45.0, 'time': '04/16/2015 14:00'},\n",
       " {'count_empty': 6.0, 'count_full': 29.0, 'time': '04/14/2015 00:00'},\n",
       " {'count_empty': 0.0, 'count_full': 3.0, 'time': '04/14/2015 16:00'},\n",
       " {'count_empty': 114.0, 'count_full': 32.0, 'time': '04/19/2015 13:00'},\n",
       " {'count_empty': 98.0, 'count_full': 56.0, 'time': '04/17/2015 18:00'},\n",
       " {'count_empty': 72.0, 'count_full': 58.0, 'time': '04/18/2015 20:00'},\n",
       " {'count_empty': 2.0, 'count_full': 8.0, 'time': '04/14/2015 17:00'},\n",
       " {'count_empty': 4.0, 'count_full': 10.0, 'time': '04/19/2015 20:00'},\n",
       " {'count_empty': 27.0, 'count_full': 18.0, 'time': '04/18/2015 09:00'},\n",
       " {'count_empty': 10.0, 'count_full': 20.0, 'time': '04/14/2015 07:00'},\n",
       " {'count_empty': 5.0, 'count_full': 22.0, 'time': '04/19/2015 00:00'},\n",
       " {'count_empty': 6.0, 'count_full': 9.0, 'time': '04/13/2015 04:00'},\n",
       " {'count_empty': 16.0, 'count_full': 25.0, 'time': '04/16/2015 06:00'},\n",
       " {'count_empty': 10.0, 'count_full': 22.0, 'time': '04/16/2015 01:00'},\n",
       " {'count_empty': 108.0, 'count_full': 108.0, 'time': '04/13/2015 09:00'},\n",
       " {'count_empty': 11.0, 'count_full': 25.0, 'time': '04/18/2015 06:00'},\n",
       " {'count_empty': 154.0, 'count_full': 67.0, 'time': '04/18/2015 13:00'},\n",
       " {'count_empty': 77.0, 'count_full': 69.0, 'time': '04/13/2015 12:00'},\n",
       " {'count_empty': 93.0, 'count_full': 22.0, 'time': '04/19/2015 12:00'},\n",
       " {'count_empty': 1.0, 'count_full': 8.0, 'time': '04/15/2015 00:00'},\n",
       " {'count_empty': 4.0, 'count_full': 31.0, 'time': '04/14/2015 05:00'},\n",
       " {'count_empty': 11.0, 'count_full': 25.0, 'time': '04/14/2015 22:00'},\n",
       " {'count_empty': 6.0, 'count_full': 10.0, 'time': '04/15/2015 05:00'},\n",
       " {'count_empty': 78.0, 'count_full': 67.0, 'time': '04/17/2015 10:00'},\n",
       " {'count_empty': 98.0, 'count_full': 44.0, 'time': '04/18/2015 18:00'},\n",
       " {'count_empty': 3.0, 'count_full': 25.0, 'time': '04/14/2015 04:00'},\n",
       " {'count_empty': 8.0, 'count_full': 11.0, 'time': '04/19/2015 09:00'},\n",
       " {'count_empty': 106.0, 'count_full': 42.0, 'time': '04/19/2015 14:00'},\n",
       " {'count_empty': 8.0, 'count_full': 20.0, 'time': '04/19/2015 02:00'},\n",
       " {'count_empty': 155.0, 'count_full': 46.0, 'time': '04/18/2015 17:00'},\n",
       " {'count_empty': 33.0, 'count_full': 64.0, 'time': '04/13/2015 22:00'},\n",
       " {'count_empty': 16.0, 'count_full': 13.0, 'time': '04/13/2015 06:00'},\n",
       " {'count_empty': 8.0, 'count_full': 11.0, 'time': '04/14/2015 09:00'},\n",
       " {'count_empty': 42.0, 'count_full': 40.0, 'time': '04/17/2015 14:00'},\n",
       " {'count_empty': 85.0, 'count_full': 37.0, 'time': '04/19/2015 15:00'},\n",
       " {'count_empty': 61.0, 'count_full': 82.0, 'time': '04/13/2015 13:00'},\n",
       " {'count_empty': 12.0, 'count_full': 24.0, 'time': '04/16/2015 00:00'},\n",
       " {'count_empty': 50.0, 'count_full': 42.0, 'time': '04/17/2015 13:00'},\n",
       " {'count_empty': 12.0, 'count_full': 23.0, 'time': '04/18/2015 00:00'},\n",
       " {'count_empty': 2.0, 'count_full': 12.0, 'time': '04/14/2015 10:00'},\n",
       " {'count_empty': 7.0, 'count_full': 15.0, 'time': '04/17/2015 00:00'},\n",
       " {'count_empty': 1.0, 'count_full': 10.0, 'time': '04/15/2015 01:00'},\n",
       " {'count_empty': 28.0, 'count_full': 36.0, 'time': '04/18/2015 22:00'},\n",
       " {'count_empty': 34.0, 'count_full': 59.0, 'time': '04/15/2015 13:00'},\n",
       " {'count_empty': 11.0, 'count_full': 22.0, 'time': '04/16/2015 03:00'},\n",
       " {'count_empty': 35.0, 'count_full': 45.0, 'time': '04/15/2015 16:00'},\n",
       " {'count_empty': 7.0, 'count_full': 10.0, 'time': '04/13/2015 00:00'},\n",
       " {'count_empty': 132.0, 'count_full': 87.0, 'time': '04/13/2015 18:00'},\n",
       " {'count_empty': 73.0, 'count_full': 78.0, 'time': '04/15/2015 19:00'},\n",
       " {'count_empty': 8.0, 'count_full': 25.0, 'time': '04/18/2015 04:00'},\n",
       " {'count_empty': 124.0, 'count_full': 34.0, 'time': '04/18/2015 12:00'},\n",
       " {'count_empty': 69.0, 'count_full': 93.0, 'time': '04/13/2015 11:00'},\n",
       " {'count_empty': 22.0, 'count_full': 24.0, 'time': '04/18/2015 23:00'},\n",
       " {'count_empty': 5.0, 'count_full': 24.0, 'time': '04/19/2015 04:00'},\n",
       " {'count_empty': 2.0, 'count_full': 6.0, 'time': '04/19/2015 21:00'},\n",
       " {'count_empty': 9.0, 'count_full': 23.0, 'time': '04/19/2015 19:00'},\n",
       " {'count_empty': 3.0, 'count_full': 26.0, 'time': '04/14/2015 03:00'},\n",
       " {'count_empty': 11.0, 'count_full': 13.0, 'time': '04/14/2015 08:00'},\n",
       " {'count_empty': 37.0, 'count_full': 53.0, 'time': '04/15/2015 12:00'},\n",
       " {'count_empty': 20.0, 'count_full': 14.0, 'time': '04/15/2015 07:00'},\n",
       " {'count_empty': 10.0, 'count_full': 18.0, 'time': '04/19/2015 01:00'},\n",
       " {'count_empty': 68.0, 'count_full': 42.0, 'time': '04/17/2015 12:00'},\n",
       " {'count_empty': 64.0, 'count_full': 33.0, 'time': '04/17/2015 08:00'},\n",
       " {'count_empty': 46.0, 'count_full': 82.0, 'time': '04/13/2015 21:00'},\n",
       " {'count_empty': 18.0, 'count_full': 35.0, 'time': '04/16/2015 23:00'},\n",
       " {'count_empty': 24.0, 'count_full': 29.0, 'time': '04/15/2015 23:00'},\n",
       " {'count_empty': 6.0, 'count_full': 13.0, 'time': '04/14/2015 18:00'},\n",
       " {'count_empty': 58.0, 'count_full': 62.0, 'time': '04/16/2015 20:00'},\n",
       " {'count_empty': 74.0, 'count_full': 67.0, 'time': '04/16/2015 10:00'},\n",
       " {'count_empty': 77.0, 'count_full': 77.0, 'time': '04/17/2015 09:00'},\n",
       " {'count_empty': 85.0, 'count_full': 67.0, 'time': '04/13/2015 17:00'},\n",
       " {'count_empty': 104.0, 'count_full': 80.0, 'time': '04/16/2015 09:00'},\n",
       " {'count_empty': 11.0, 'count_full': 21.0, 'time': '04/16/2015 02:00'},\n",
       " {'count_empty': 5.0, 'count_full': 15.0, 'time': '04/19/2015 07:00'},\n",
       " {'count_empty': 37.0, 'count_full': 35.0, 'time': '04/17/2015 15:00'},\n",
       " {'count_empty': 81.0, 'count_full': 71.0, 'time': '04/16/2015 19:00'},\n",
       " {'count_empty': 11.0, 'count_full': 23.0, 'time': '04/18/2015 01:00'},\n",
       " {'count_empty': 49.0, 'count_full': 51.0, 'time': '04/18/2015 21:00'},\n",
       " {'count_empty': 7.0, 'count_full': 15.0, 'time': '04/17/2015 04:00'},\n",
       " {'count_empty': 4.0, 'count_full': 23.0, 'time': '04/19/2015 06:00'},\n",
       " {'count_empty': 8.0, 'count_full': 9.0, 'time': '04/13/2015 01:00'},\n",
       " {'count_empty': 9.0, 'count_full': 12.0, 'time': '04/15/2015 06:00'},\n",
       " {'count_empty': 7.0, 'count_full': 15.0, 'time': '04/17/2015 02:00'},\n",
       " {'count_empty': 18.0, 'count_full': 44.0, 'time': '04/15/2015 14:00'},\n",
       " {'count_empty': 11.0, 'count_full': 22.0, 'time': '04/16/2015 04:00'},\n",
       " {'count_empty': 120.0, 'count_full': 28.0, 'time': '04/17/2015 17:00'},\n",
       " {'count_empty': 37.0, 'count_full': 42.0, 'time': '04/19/2015 18:00'},\n",
       " {'count_empty': 85.0, 'count_full': 24.0, 'time': '04/18/2015 11:00'},\n",
       " {'count_empty': 45.0, 'count_full': 57.0, 'time': '04/16/2015 16:00'},\n",
       " {'count_empty': 9.0, 'count_full': 15.0, 'time': '04/14/2015 19:00'},\n",
       " {'count_empty': 5.0, 'count_full': 14.0, 'time': '04/17/2015 01:00'},\n",
       " {'count_empty': 155.0, 'count_full': 56.0, 'time': '04/18/2015 16:00'},\n",
       " {'count_empty': 39.0, 'count_full': 56.0, 'time': '04/17/2015 20:00'},\n",
       " {'count_empty': 44.0, 'count_full': 60.0, 'time': '04/16/2015 15:00'},\n",
       " {'count_empty': 65.0, 'count_full': 25.0, 'time': '04/17/2015 16:00'},\n",
       " {'count_empty': 18.0, 'count_full': 19.0, 'time': '04/16/2015 07:00'},\n",
       " {'count_empty': 1.0, 'count_full': 11.0, 'time': '04/15/2015 04:00'},\n",
       " {'count_empty': 68.0, 'count_full': 61.0, 'time': '04/16/2015 11:00'},\n",
       " {'count_empty': 59.0, 'count_full': 67.0, 'time': '04/13/2015 16:00'},\n",
       " {'count_empty': 15.0, 'count_full': 34.0, 'time': '04/15/2015 15:00'},\n",
       " {'count_empty': 6.0, 'count_full': 20.0, 'time': '04/18/2015 08:00'},\n",
       " {'count_empty': 93.0, 'count_full': 62.0, 'time': '04/15/2015 18:00'},\n",
       " {'count_empty': 74.0, 'count_full': 44.0, 'time': '04/16/2015 08:00'},\n",
       " {'count_empty': 8.0, 'count_full': 15.0, 'time': '04/17/2015 05:00'},\n",
       " {'count_empty': 90.0, 'count_full': 89.0, 'time': '04/13/2015 20:00'},\n",
       " {'count_empty': 49.0, 'count_full': 49.0, 'time': '04/15/2015 21:00'},\n",
       " {'count_empty': 83.0, 'count_full': 49.0, 'time': '04/19/2015 16:00'},\n",
       " {'count_empty': 12.0, 'count_full': 26.0, 'time': '04/18/2015 02:00'},\n",
       " {'count_empty': 28.0, 'count_full': 45.0, 'time': '04/17/2015 21:00'},\n",
       " {'count_empty': 2.0, 'count_full': 11.0, 'time': '04/19/2015 08:00'},\n",
       " {'count_empty': 9.0, 'count_full': 26.0, 'time': '04/18/2015 05:00'},\n",
       " {'count_empty': 5.0, 'count_full': 24.0, 'time': '04/19/2015 03:00'},\n",
       " {'count_empty': 3.0, 'count_full': 8.0, 'time': '04/14/2015 11:00'},\n",
       " {'count_empty': 1.0, 'count_full': 11.0, 'time': '04/15/2015 02:00'},\n",
       " {'count_empty': 77.0, 'count_full': 30.0, 'time': '04/15/2015 17:00'},\n",
       " {'count_empty': 1.0, 'count_full': 4.0, 'time': '04/14/2015 15:00'},\n",
       " {'count_empty': 50.0, 'count_full': 68.0, 'time': '04/15/2015 20:00'},\n",
       " {'count_empty': 1.0, 'count_full': 9.0, 'time': '04/14/2015 12:00'},\n",
       " {'count_empty': 9.0, 'count_full': 14.0, 'time': '04/14/2015 23:00'},\n",
       " {'count_empty': 68.0, 'count_full': 53.0, 'time': '04/17/2015 11:00'},\n",
       " {'count_empty': 47.0, 'count_full': 16.0, 'time': '04/18/2015 10:00'},\n",
       " {'count_empty': 7.0, 'count_full': 10.0, 'time': '04/13/2015 02:00'},\n",
       " {'count_empty': 0.0, 'count_full': 1.0, 'time': '04/19/2015 23:00'},\n",
       " {'count_empty': 87.0, 'count_full': 71.0, 'time': '04/16/2015 18:00'},\n",
       " {'count_empty': 121.0, 'count_full': 114.0, 'time': '04/13/2015 19:00'},\n",
       " {'count_empty': 23.0, 'count_full': 19.0, 'time': '04/13/2015 07:00'},\n",
       " {'count_empty': 10.0, 'count_full': 16.0, 'time': '04/17/2015 06:00'},\n",
       " {'count_empty': 4.0, 'count_full': 26.0, 'time': '04/14/2015 02:00'},\n",
       " {'count_empty': 11.0, 'count_full': 25.0, 'time': '04/16/2015 05:00'},\n",
       " {'count_empty': 49.0, 'count_full': 56.0, 'time': '04/15/2015 11:00'},\n",
       " {'count_empty': 145.0, 'count_full': 53.0, 'time': '04/18/2015 14:00'},\n",
       " {'count_empty': 8.0, 'count_full': 16.0, 'time': '04/14/2015 20:00'},\n",
       " {'count_empty': 97.0, 'count_full': 88.0, 'time': '04/13/2015 08:00'},\n",
       " {'count_empty': 33.0, 'count_full': 53.0, 'time': '04/16/2015 22:00'},\n",
       " {'count_empty': 33.0, 'count_full': 47.0, 'time': '04/15/2015 22:00'},\n",
       " {'count_empty': 6.0, 'count_full': 26.0, 'time': '04/14/2015 06:00'},\n",
       " {'count_empty': 0.0, 'count_full': 2.0, 'time': '04/19/2015 22:00'},\n",
       " {'count_empty': 1.0, 'count_full': 11.0, 'time': '04/15/2015 03:00'},\n",
       " {'count_empty': 60.0, 'count_full': 49.0, 'time': '04/16/2015 12:00'},\n",
       " {'count_empty': 4.0, 'count_full': 25.0, 'time': '04/14/2015 01:00'},\n",
       " {'count_empty': 38.0, 'count_full': 38.0, 'time': '04/16/2015 13:00'}]"
      ]
     },
     "execution_count": 78,
     "metadata": {},
     "output_type": "execute_result"
    }
   ],
   "source": [
    "test"
   ]
  },
  {
   "cell_type": "code",
   "execution_count": 60,
   "metadata": {
    "collapsed": false
   },
   "outputs": [],
   "source": [
    "full = freq['count_full']\n",
    "empty = freq['count_empty']"
   ]
  },
  {
   "cell_type": "code",
   "execution_count": 6,
   "metadata": {
    "collapsed": false
   },
   "outputs": [],
   "source": [
    "full = full.tolist()\n",
    "empty = empty.tolist()"
   ]
  },
  {
   "cell_type": "code",
   "execution_count": 7,
   "metadata": {
    "collapsed": false
   },
   "outputs": [
    {
     "name": "stdout",
     "output_type": "stream",
     "text": [
      "[10.0, 9.0, 10.0, 10.0, 9.0, 8.0, 13.0, 19.0, 88.0, 108.0, 92.0, 93.0, 69.0, 82.0, 99.0, 76.0, 67.0, 67.0, 87.0, 114.0, 89.0, 82.0, 64.0, 51.0, 29.0, 25.0, 26.0, 26.0, 25.0, 31.0, 26.0, 20.0, 13.0, 11.0, 12.0, 8.0, 9.0, 6.0, 3.0, 4.0, 3.0, 8.0, 13.0, 15.0, 16.0, 22.0, 25.0, 14.0, 8.0, 10.0, 11.0, 11.0, 11.0, 10.0, 12.0, 14.0, 47.0, 92.0, 84.0, 56.0, 53.0, 59.0, 44.0, 34.0, 45.0, 30.0, 62.0, 78.0, 68.0, 49.0, 47.0, 29.0, 24.0, 22.0, 21.0, 22.0, 22.0, 25.0, 25.0, 19.0, 44.0, 80.0, 67.0, 61.0, 49.0, 38.0, 45.0, 60.0, 57.0, 58.0, 71.0, 71.0, 62.0, 49.0, 53.0, 35.0, 15.0, 14.0, 15.0, 16.0, 15.0, 15.0, 16.0, 17.0, 33.0, 77.0, 67.0, 53.0, 42.0, 42.0, 40.0, 35.0, 25.0, 28.0, 56.0, 59.0, 56.0, 45.0, 41.0, 29.0, 23.0, 23.0, 26.0, 27.0, 25.0, 26.0, 25.0, 26.0, 20.0, 18.0, 16.0, 24.0, 34.0, 67.0, 53.0, 40.0, 56.0, 46.0, 44.0, 56.0, 58.0, 51.0, 36.0, 24.0, 22.0, 18.0, 20.0, 24.0, 24.0, 27.0, 23.0, 15.0, 11.0, 11.0, 14.0, 29.0, 22.0, 32.0, 42.0, 37.0, 49.0, 51.0, 42.0, 23.0, 10.0, 6.0, 2.0, 1.0]\n"
     ]
    }
   ],
   "source": [
    "print full,"
   ]
  },
  {
   "cell_type": "code",
   "execution_count": 26,
   "metadata": {
    "collapsed": false
   },
   "outputs": [
    {
     "name": "stdout",
     "output_type": "stream",
     "text": [
      "[7.0, 8.0, 7.0, 6.0, 6.0, 9.0, 16.0, 23.0, 97.0, 108.0, 81.0, 69.0, 77.0, 61.0, 59.0, 41.0, 59.0, 85.0, 132.0, 121.0, 90.0, 46.0, 33.0, 23.0, 6.0, 4.0, 4.0, 3.0, 3.0, 4.0, 6.0, 10.0, 11.0, 8.0, 2.0, 3.0, 1.0, 1.0, 2.0, 1.0, 0.0, 2.0, 6.0, 9.0, 8.0, 11.0, 11.0, 9.0, 1.0, 1.0, 1.0, 1.0, 1.0, 6.0, 9.0, 20.0, 87.0, 91.0, 60.0, 49.0, 37.0, 34.0, 18.0, 15.0, 35.0, 77.0, 93.0, 73.0, 50.0, 49.0, 33.0, 24.0, 12.0, 10.0, 11.0, 11.0, 11.0, 11.0, 16.0, 18.0, 74.0, 104.0, 74.0, 68.0, 60.0, 38.0, 46.0, 44.0, 45.0, 79.0, 87.0, 81.0, 58.0, 50.0, 33.0, 18.0, 7.0, 5.0, 7.0, 7.0, 7.0, 8.0, 10.0, 16.0, 64.0, 77.0, 78.0, 68.0, 68.0, 50.0, 42.0, 37.0, 65.0, 120.0, 98.0, 66.0, 39.0, 28.0, 19.0, 19.0, 12.0, 11.0, 12.0, 11.0, 8.0, 9.0, 11.0, 10.0, 6.0, 27.0, 47.0, 85.0, 124.0, 154.0, 145.0, 164.0, 155.0, 155.0, 98.0, 100.0, 72.0, 49.0, 28.0, 22.0, 5.0, 10.0, 8.0, 5.0, 5.0, 4.0, 4.0, 5.0, 2.0, 8.0, 36.0, 55.0, 93.0, 114.0, 106.0, 85.0, 83.0, 64.0, 37.0, 9.0, 4.0, 2.0, 0.0, 0.0]\n"
     ]
    }
   ],
   "source": [
    "print empty,"
   ]
  },
  {
   "cell_type": "code",
   "execution_count": null,
   "metadata": {
    "collapsed": true
   },
   "outputs": [],
   "source": []
  }
 ],
 "metadata": {
  "kernelspec": {
   "display_name": "Python 2",
   "language": "python",
   "name": "python2"
  },
  "language_info": {
   "codemirror_mode": {
    "name": "ipython",
    "version": 2
   },
   "file_extension": ".py",
   "mimetype": "text/x-python",
   "name": "python",
   "nbconvert_exporter": "python",
   "pygments_lexer": "ipython2",
   "version": "2.7.9"
  }
 },
 "nbformat": 4,
 "nbformat_minor": 0
}
