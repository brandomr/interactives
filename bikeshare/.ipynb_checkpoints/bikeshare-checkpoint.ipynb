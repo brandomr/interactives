{
 "cells": [
  {
   "cell_type": "code",
   "execution_count": 3,
   "metadata": {
    "collapsed": false
   },
   "outputs": [
    {
     "name": "stdout",
     "output_type": "stream",
     "text": [
      "41315_to_41915.csv  bikeshare.ipynb\r\n"
     ]
    }
   ],
   "source": [
    "ls"
   ]
  },
  {
   "cell_type": "code",
   "execution_count": 437,
   "metadata": {
    "collapsed": false
   },
   "outputs": [
    {
     "name": "stdout",
     "output_type": "stream",
     "text": [
      "Using matplotlib backend: MacOSX\n"
     ]
    }
   ],
   "source": [
    "%matplotlib"
   ]
  },
  {
   "cell_type": "code",
   "execution_count": 435,
   "metadata": {
    "collapsed": false
   },
   "outputs": [],
   "source": [
    "import pandas as pd\n",
    "import matplotlib.pylab"
   ]
  },
  {
   "cell_type": "code",
   "execution_count": 9,
   "metadata": {
    "collapsed": false
   },
   "outputs": [],
   "source": [
    "data = pd.read_csv('41315_to_41915.csv', header=0)"
   ]
  },
  {
   "cell_type": "code",
   "execution_count": 10,
   "metadata": {
    "collapsed": false
   },
   "outputs": [
    {
     "data": {
      "text/html": [
       "<div style=\"max-height:1000px;max-width:1500px;overflow:auto;\">\n",
       "<table border=\"1\" class=\"dataframe\">\n",
       "  <thead>\n",
       "    <tr style=\"text-align: right;\">\n",
       "      <th></th>\n",
       "      <th>Terminal Number</th>\n",
       "      <th>Station Name</th>\n",
       "      <th>Status</th>\n",
       "      <th>Start</th>\n",
       "      <th>End</th>\n",
       "      <th>Duration</th>\n",
       "    </tr>\n",
       "  </thead>\n",
       "  <tbody>\n",
       "    <tr>\n",
       "      <th>0</th>\n",
       "      <td> 31101</td>\n",
       "      <td>                14th &amp; V St NW</td>\n",
       "      <td>  full</td>\n",
       "      <td> 2015-04-19 22:20:16</td>\n",
       "      <td> 2015-04-19 23:02:44</td>\n",
       "      <td>  42</td>\n",
       "    </tr>\n",
       "    <tr>\n",
       "      <th>1</th>\n",
       "      <td> 31257</td>\n",
       "      <td> 22nd &amp; I St NW / Foggy Bottom</td>\n",
       "      <td>  full</td>\n",
       "      <td> 2015-04-19 20:35:04</td>\n",
       "      <td> 2015-04-19 22:38:28</td>\n",
       "      <td> 123</td>\n",
       "    </tr>\n",
       "    <tr>\n",
       "      <th>2</th>\n",
       "      <td> 31280</td>\n",
       "      <td>                11th &amp; S St NW</td>\n",
       "      <td>  full</td>\n",
       "      <td> 2015-04-19 21:12:30</td>\n",
       "      <td> 2015-04-19 21:37:48</td>\n",
       "      <td>  25</td>\n",
       "    </tr>\n",
       "    <tr>\n",
       "      <th>3</th>\n",
       "      <td> 31632</td>\n",
       "      <td>                15th &amp; F St NE</td>\n",
       "      <td>  full</td>\n",
       "      <td> 2015-04-19 21:14:32</td>\n",
       "      <td> 2015-04-19 21:33:45</td>\n",
       "      <td>  19</td>\n",
       "    </tr>\n",
       "    <tr>\n",
       "      <th>4</th>\n",
       "      <td> 31121</td>\n",
       "      <td>    Calvert St &amp; Woodley Pl NW</td>\n",
       "      <td> empty</td>\n",
       "      <td> 2015-04-19 19:15:11</td>\n",
       "      <td> 2015-04-19 21:29:42</td>\n",
       "      <td> 135</td>\n",
       "    </tr>\n",
       "  </tbody>\n",
       "</table>\n",
       "</div>"
      ],
      "text/plain": [
       "   Terminal Number                   Station Name Status                Start  \\\n",
       "0            31101                 14th & V St NW   full  2015-04-19 22:20:16   \n",
       "1            31257  22nd & I St NW / Foggy Bottom   full  2015-04-19 20:35:04   \n",
       "2            31280                 11th & S St NW   full  2015-04-19 21:12:30   \n",
       "3            31632                 15th & F St NE   full  2015-04-19 21:14:32   \n",
       "4            31121     Calvert St & Woodley Pl NW  empty  2015-04-19 19:15:11   \n",
       "\n",
       "                   End  Duration  \n",
       "0  2015-04-19 23:02:44        42  \n",
       "1  2015-04-19 22:38:28       123  \n",
       "2  2015-04-19 21:37:48        25  \n",
       "3  2015-04-19 21:33:45        19  \n",
       "4  2015-04-19 21:29:42       135  "
      ]
     },
     "execution_count": 10,
     "metadata": {},
     "output_type": "execute_result"
    }
   ],
   "source": [
    "data.head()"
   ]
  },
  {
   "cell_type": "code",
   "execution_count": 11,
   "metadata": {
    "collapsed": false
   },
   "outputs": [],
   "source": [
    "data['start_time'] = data['Start'].apply(lambda(x): pd.to_datetime(x))\n",
    "data['end_time'] = data['End'].apply(lambda(x): pd.to_datetime(x))\n",
    "data = data.drop('Start', 1)\n",
    "data = data.drop('End', 1)"
   ]
  },
  {
   "cell_type": "code",
   "execution_count": 12,
   "metadata": {
    "collapsed": false,
    "scrolled": true
   },
   "outputs": [
    {
     "data": {
      "text/html": [
       "<div style=\"max-height:1000px;max-width:1500px;overflow:auto;\">\n",
       "<table border=\"1\" class=\"dataframe\">\n",
       "  <thead>\n",
       "    <tr style=\"text-align: right;\">\n",
       "      <th></th>\n",
       "      <th>Terminal Number</th>\n",
       "      <th>Station Name</th>\n",
       "      <th>Status</th>\n",
       "      <th>Duration</th>\n",
       "      <th>start_time</th>\n",
       "      <th>end_time</th>\n",
       "    </tr>\n",
       "  </thead>\n",
       "  <tbody>\n",
       "    <tr>\n",
       "      <th>0</th>\n",
       "      <td> 31101</td>\n",
       "      <td>                14th &amp; V St NW</td>\n",
       "      <td>  full</td>\n",
       "      <td>  42</td>\n",
       "      <td>2015-04-19 22:20:16</td>\n",
       "      <td>2015-04-19 23:02:44</td>\n",
       "    </tr>\n",
       "    <tr>\n",
       "      <th>1</th>\n",
       "      <td> 31257</td>\n",
       "      <td> 22nd &amp; I St NW / Foggy Bottom</td>\n",
       "      <td>  full</td>\n",
       "      <td> 123</td>\n",
       "      <td>2015-04-19 20:35:04</td>\n",
       "      <td>2015-04-19 22:38:28</td>\n",
       "    </tr>\n",
       "    <tr>\n",
       "      <th>2</th>\n",
       "      <td> 31280</td>\n",
       "      <td>                11th &amp; S St NW</td>\n",
       "      <td>  full</td>\n",
       "      <td>  25</td>\n",
       "      <td>2015-04-19 21:12:30</td>\n",
       "      <td>2015-04-19 21:37:48</td>\n",
       "    </tr>\n",
       "    <tr>\n",
       "      <th>3</th>\n",
       "      <td> 31632</td>\n",
       "      <td>                15th &amp; F St NE</td>\n",
       "      <td>  full</td>\n",
       "      <td>  19</td>\n",
       "      <td>2015-04-19 21:14:32</td>\n",
       "      <td>2015-04-19 21:33:45</td>\n",
       "    </tr>\n",
       "    <tr>\n",
       "      <th>4</th>\n",
       "      <td> 31121</td>\n",
       "      <td>    Calvert St &amp; Woodley Pl NW</td>\n",
       "      <td> empty</td>\n",
       "      <td> 135</td>\n",
       "      <td>2015-04-19 19:15:11</td>\n",
       "      <td>2015-04-19 21:29:42</td>\n",
       "    </tr>\n",
       "  </tbody>\n",
       "</table>\n",
       "</div>"
      ],
      "text/plain": [
       "   Terminal Number                   Station Name Status  Duration  \\\n",
       "0            31101                 14th & V St NW   full        42   \n",
       "1            31257  22nd & I St NW / Foggy Bottom   full       123   \n",
       "2            31280                 11th & S St NW   full        25   \n",
       "3            31632                 15th & F St NE   full        19   \n",
       "4            31121     Calvert St & Woodley Pl NW  empty       135   \n",
       "\n",
       "           start_time            end_time  \n",
       "0 2015-04-19 22:20:16 2015-04-19 23:02:44  \n",
       "1 2015-04-19 20:35:04 2015-04-19 22:38:28  \n",
       "2 2015-04-19 21:12:30 2015-04-19 21:37:48  \n",
       "3 2015-04-19 21:14:32 2015-04-19 21:33:45  \n",
       "4 2015-04-19 19:15:11 2015-04-19 21:29:42  "
      ]
     },
     "execution_count": 12,
     "metadata": {},
     "output_type": "execute_result"
    }
   ],
   "source": [
    "data.head()"
   ]
  },
  {
   "cell_type": "code",
   "execution_count": 28,
   "metadata": {
    "collapsed": true
   },
   "outputs": [],
   "source": [
    "stations = pd.Series(data['Station Name'].unique())"
   ]
  },
  {
   "cell_type": "code",
   "execution_count": 13,
   "metadata": {
    "collapsed": false
   },
   "outputs": [],
   "source": [
    "empty = data[data['Status'] == 'empty']\n",
    "full = data[data['Status'] == 'full']"
   ]
  },
  {
   "cell_type": "markdown",
   "metadata": {},
   "source": [
    "Check if empty and full sum to total data"
   ]
  },
  {
   "cell_type": "code",
   "execution_count": 14,
   "metadata": {
    "collapsed": false
   },
   "outputs": [
    {
     "name": "stdout",
     "output_type": "stream",
     "text": [
      "True\n"
     ]
    }
   ],
   "source": [
    "if (len(empty) + len(full) == len(data)):\n",
    "    print True\n",
    "else:\n",
    "    print False"
   ]
  },
  {
   "cell_type": "code",
   "execution_count": 15,
   "metadata": {
    "collapsed": false
   },
   "outputs": [
    {
     "data": {
      "text/html": [
       "<div style=\"max-height:1000px;max-width:1500px;overflow:auto;\">\n",
       "<table border=\"1\" class=\"dataframe\">\n",
       "  <thead>\n",
       "    <tr style=\"text-align: right;\">\n",
       "      <th></th>\n",
       "      <th>Terminal Number</th>\n",
       "      <th>Station Name</th>\n",
       "      <th>Status</th>\n",
       "      <th>Duration</th>\n",
       "      <th>start_time</th>\n",
       "      <th>end_time</th>\n",
       "    </tr>\n",
       "  </thead>\n",
       "  <tbody>\n",
       "    <tr>\n",
       "      <th>4 </th>\n",
       "      <td> 31121</td>\n",
       "      <td> Calvert St &amp; Woodley Pl NW</td>\n",
       "      <td> empty</td>\n",
       "      <td> 135</td>\n",
       "      <td>2015-04-19 19:15:11</td>\n",
       "      <td>2015-04-19 21:29:42</td>\n",
       "    </tr>\n",
       "    <tr>\n",
       "      <th>7 </th>\n",
       "      <td> 31602</td>\n",
       "      <td>    Park Rd &amp; Holmead Pl NW</td>\n",
       "      <td> empty</td>\n",
       "      <td>  30</td>\n",
       "      <td>2015-04-19 20:51:16</td>\n",
       "      <td>2015-04-19 21:21:36</td>\n",
       "    </tr>\n",
       "    <tr>\n",
       "      <th>10</th>\n",
       "      <td> 31602</td>\n",
       "      <td>    Park Rd &amp; Holmead Pl NW</td>\n",
       "      <td> empty</td>\n",
       "      <td>  15</td>\n",
       "      <td>2015-04-19 20:27:59</td>\n",
       "      <td>2015-04-19 20:43:10</td>\n",
       "    </tr>\n",
       "    <tr>\n",
       "      <th>15</th>\n",
       "      <td> 31105</td>\n",
       "      <td>       14th &amp; Harvard St NW</td>\n",
       "      <td> empty</td>\n",
       "      <td>  32</td>\n",
       "      <td>2015-04-19 19:34:24</td>\n",
       "      <td>2015-04-19 20:06:45</td>\n",
       "    </tr>\n",
       "    <tr>\n",
       "      <th>20</th>\n",
       "      <td> 31029</td>\n",
       "      <td>      N Veitch  &amp; 20th St N</td>\n",
       "      <td> empty</td>\n",
       "      <td>  16</td>\n",
       "      <td>2015-04-19 19:25:17</td>\n",
       "      <td>2015-04-19 19:41:28</td>\n",
       "    </tr>\n",
       "  </tbody>\n",
       "</table>\n",
       "</div>"
      ],
      "text/plain": [
       "    Terminal Number                Station Name Status  Duration  \\\n",
       "4             31121  Calvert St & Woodley Pl NW  empty       135   \n",
       "7             31602     Park Rd & Holmead Pl NW  empty        30   \n",
       "10            31602     Park Rd & Holmead Pl NW  empty        15   \n",
       "15            31105        14th & Harvard St NW  empty        32   \n",
       "20            31029       N Veitch  & 20th St N  empty        16   \n",
       "\n",
       "            start_time            end_time  \n",
       "4  2015-04-19 19:15:11 2015-04-19 21:29:42  \n",
       "7  2015-04-19 20:51:16 2015-04-19 21:21:36  \n",
       "10 2015-04-19 20:27:59 2015-04-19 20:43:10  \n",
       "15 2015-04-19 19:34:24 2015-04-19 20:06:45  \n",
       "20 2015-04-19 19:25:17 2015-04-19 19:41:28  "
      ]
     },
     "execution_count": 15,
     "metadata": {},
     "output_type": "execute_result"
    }
   ],
   "source": [
    "empty.head()"
   ]
  },
  {
   "cell_type": "code",
   "execution_count": 19,
   "metadata": {
    "collapsed": false
   },
   "outputs": [
    {
     "data": {
      "text/plain": [
       "Timestamp('2015-04-19 19:15:11')"
      ]
     },
     "execution_count": 19,
     "metadata": {},
     "output_type": "execute_result"
    }
   ],
   "source": [
    "empty['start_time'][4]"
   ]
  },
  {
   "cell_type": "code",
   "execution_count": 62,
   "metadata": {
    "collapsed": false
   },
   "outputs": [
    {
     "name": "stdout",
     "output_type": "stream",
     "text": [
      "2015-04-12 21:29:03\n",
      "2015-04-19 23:02:44\n"
     ]
    }
   ],
   "source": [
    "print data['start_time'].min()\n",
    "print data['end_time'].max()"
   ]
  },
  {
   "cell_type": "code",
   "execution_count": 34,
   "metadata": {
    "collapsed": false
   },
   "outputs": [],
   "source": [
    "rng = pd.date_range('4/12/2015 23:00', periods=170, freq='H')"
   ]
  },
  {
   "cell_type": "markdown",
   "metadata": {},
   "source": [
    "Calculate counts per hour for each station by hour of the day"
   ]
  },
  {
   "cell_type": "code",
   "execution_count": 395,
   "metadata": {
    "collapsed": false
   },
   "outputs": [],
   "source": [
    "def get_freq(status):\n",
    "\n",
    "    freq = pd.DataFrame(columns=['hour','station', 'count'])\n",
    "\n",
    "    for station in stations:\n",
    "        \n",
    "        if status == 'empty':\n",
    "            freq_station = empty[empty['Station Name'] == station ]\n",
    "        else:\n",
    "            freq_station = full[full['Station Name'] == station ]\n",
    "\n",
    "        station_times = pd.DataFrame()\n",
    "        station_times['hour'] = rng\n",
    "        station_times['station'] = station\n",
    "        station_times['count'] = 0\n",
    "\n",
    "        for index,item in station_times.iterrows():\n",
    "\n",
    "            for index,row in freq_station.iterrows():\n",
    "                start = pd.datetime(row['start_time'].year, row['start_time'].month, row['start_time'].day, row['start_time'].hour)\n",
    "                end = pd.datetime(row['end_time'].year, row['end_time'].month, row['end_time'].day, row['end_time'].hour)\n",
    "\n",
    "                if start <= item['hour'] and end >= item['hour']:\n",
    "                    station_times.ix[item.name, 'count'] += 1\n",
    "\n",
    "        freq = freq.append(station_times)\n",
    "        \n",
    "    return freq"
   ]
  },
  {
   "cell_type": "code",
   "execution_count": 396,
   "metadata": {
    "collapsed": false
   },
   "outputs": [
    {
     "name": "stdout",
     "output_type": "stream",
     "text": [
      "CPU times: user 1min 52s, sys: 902 ms, total: 1min 53s\n",
      "Wall time: 1min 53s\n"
     ]
    }
   ],
   "source": [
    "%time freq_empty = get_freq('empty')"
   ]
  },
  {
   "cell_type": "code",
   "execution_count": 398,
   "metadata": {
    "collapsed": false
   },
   "outputs": [
    {
     "name": "stdout",
     "output_type": "stream",
     "text": [
      "CPU times: user 1min 41s, sys: 746 ms, total: 1min 42s\n",
      "Wall time: 4min 21s\n"
     ]
    }
   ],
   "source": [
    "%time freq_full = get_freq('full')"
   ]
  },
  {
   "cell_type": "code",
   "execution_count": 400,
   "metadata": {
    "collapsed": false
   },
   "outputs": [],
   "source": [
    "freq_full_hourly = freq_full.groupby('hour')['count'].sum()"
   ]
  },
  {
   "cell_type": "code",
   "execution_count": 401,
   "metadata": {
    "collapsed": false
   },
   "outputs": [],
   "source": [
    "freq_empty_hourly = freq_empty.groupby('hour')['count'].sum()"
   ]
  },
  {
   "cell_type": "code",
   "execution_count": 418,
   "metadata": {
    "collapsed": false
   },
   "outputs": [],
   "source": [
    "freq = pd.DataFrame()\n",
    "freq['count_full'] = freq_full_hourly.values\n",
    "freq['count_empty'] = freq_empty_hourly.values\n",
    "freq.index = rng"
   ]
  },
  {
   "cell_type": "code",
   "execution_count": 438,
   "metadata": {
    "collapsed": false,
    "scrolled": true
   },
   "outputs": [
    {
     "data": {
      "text/plain": [
       "<matplotlib.axes._subplots.AxesSubplot at 0x10fd19c10>"
      ]
     },
     "execution_count": 438,
     "metadata": {},
     "output_type": "execute_result"
    },
    {
     "data": {
      "image/png": "[encoded data removed]",
      "text/plain": [
       "<matplotlib.figure.Figure at 0x10fd2d410>"
      ]
     },
     "metadata": {},
     "output_type": "display_data"
    }
   ],
   "source": [
    "freq.plot()"
   ]
  },
  {
   "cell_type": "code",
   "execution_count": null,
   "metadata": {
    "collapsed": true
   },
   "outputs": [],
   "source": []
  }
 ],
 "metadata": {
  "kernelspec": {
   "display_name": "Python 2",
   "language": "python",
   "name": "python2"
  },
  "language_info": {
   "codemirror_mode": {
    "name": "ipython",
    "version": 2
   },
   "file_extension": ".py",
   "mimetype": "text/x-python",
   "name": "python",
   "nbconvert_exporter": "python",
   "pygments_lexer": "ipython2",
   "version": "2.7.9"
  }
 },
 "nbformat": 4,
 "nbformat_minor": 0
}
