{
 "cells": [
  {
   "cell_type": "code",
   "execution_count": 1,
   "metadata": {
    "collapsed": true
   },
   "outputs": [],
   "source": [
    "import pandas as pd\n",
    "import numpy as np"
   ]
  },
  {
   "cell_type": "code",
   "execution_count": 4,
   "metadata": {
    "collapsed": false
   },
   "outputs": [],
   "source": [
    "data = pd.read_csv('968442106_T_T100D_MARKET_US_CARRIER_ONLY 2.csv')"
   ]
  },
  {
   "cell_type": "code",
   "execution_count": 5,
   "metadata": {
    "collapsed": false
   },
   "outputs": [
    {
     "data": {
      "text/html": [
       "<div style=\"max-height:1000px;max-width:1500px;overflow:auto;\">\n",
       "<table border=\"1\" class=\"dataframe\">\n",
       "  <thead>\n",
       "    <tr style=\"text-align: right;\">\n",
       "      <th></th>\n",
       "      <th>PASSENGERS</th>\n",
       "      <th>DISTANCE</th>\n",
       "      <th>UNIQUE_CARRIER</th>\n",
       "      <th>AIRLINE_ID</th>\n",
       "      <th>UNIQUE_CARRIER_NAME</th>\n",
       "      <th>UNIQUE_CARRIER_ENTITY</th>\n",
       "      <th>REGION</th>\n",
       "      <th>CARRIER</th>\n",
       "      <th>CARRIER_NAME</th>\n",
       "      <th>CARRIER_GROUP</th>\n",
       "      <th>...</th>\n",
       "      <th>DEST_STATE_ABR</th>\n",
       "      <th>DEST_STATE_FIPS</th>\n",
       "      <th>DEST_STATE_NM</th>\n",
       "      <th>DEST_WAC</th>\n",
       "      <th>YEAR</th>\n",
       "      <th>QUARTER</th>\n",
       "      <th>MONTH</th>\n",
       "      <th>DISTANCE_GROUP</th>\n",
       "      <th>CLASS</th>\n",
       "      <th>Unnamed: 34</th>\n",
       "    </tr>\n",
       "  </thead>\n",
       "  <tbody>\n",
       "    <tr>\n",
       "      <th>0</th>\n",
       "      <td> 0</td>\n",
       "      <td> 39</td>\n",
       "      <td> 2O</td>\n",
       "      <td> 20443</td>\n",
       "      <td> Island Air Service</td>\n",
       "      <td> 06981</td>\n",
       "      <td> D</td>\n",
       "      <td> 2O</td>\n",
       "      <td> Island Air Service</td>\n",
       "      <td> 1</td>\n",
       "      <td>...</td>\n",
       "      <td> AK</td>\n",
       "      <td> 2</td>\n",
       "      <td> Alaska</td>\n",
       "      <td> 1</td>\n",
       "      <td> 2014</td>\n",
       "      <td> 1</td>\n",
       "      <td> 1</td>\n",
       "      <td> 1</td>\n",
       "      <td> F</td>\n",
       "      <td>NaN</td>\n",
       "    </tr>\n",
       "    <tr>\n",
       "      <th>1</th>\n",
       "      <td> 0</td>\n",
       "      <td> 78</td>\n",
       "      <td> 2O</td>\n",
       "      <td> 20443</td>\n",
       "      <td> Island Air Service</td>\n",
       "      <td> 06981</td>\n",
       "      <td> D</td>\n",
       "      <td> 2O</td>\n",
       "      <td> Island Air Service</td>\n",
       "      <td> 1</td>\n",
       "      <td>...</td>\n",
       "      <td> AK</td>\n",
       "      <td> 2</td>\n",
       "      <td> Alaska</td>\n",
       "      <td> 1</td>\n",
       "      <td> 2014</td>\n",
       "      <td> 1</td>\n",
       "      <td> 1</td>\n",
       "      <td> 1</td>\n",
       "      <td> F</td>\n",
       "      <td>NaN</td>\n",
       "    </tr>\n",
       "    <tr>\n",
       "      <th>2</th>\n",
       "      <td> 0</td>\n",
       "      <td> 49</td>\n",
       "      <td> 2O</td>\n",
       "      <td> 20443</td>\n",
       "      <td> Island Air Service</td>\n",
       "      <td> 06981</td>\n",
       "      <td> D</td>\n",
       "      <td> 2O</td>\n",
       "      <td> Island Air Service</td>\n",
       "      <td> 1</td>\n",
       "      <td>...</td>\n",
       "      <td> AK</td>\n",
       "      <td> 2</td>\n",
       "      <td> Alaska</td>\n",
       "      <td> 1</td>\n",
       "      <td> 2014</td>\n",
       "      <td> 1</td>\n",
       "      <td> 1</td>\n",
       "      <td> 1</td>\n",
       "      <td> F</td>\n",
       "      <td>NaN</td>\n",
       "    </tr>\n",
       "    <tr>\n",
       "      <th>3</th>\n",
       "      <td> 0</td>\n",
       "      <td> 30</td>\n",
       "      <td> 2O</td>\n",
       "      <td> 20443</td>\n",
       "      <td> Island Air Service</td>\n",
       "      <td> 06981</td>\n",
       "      <td> D</td>\n",
       "      <td> 2O</td>\n",
       "      <td> Island Air Service</td>\n",
       "      <td> 1</td>\n",
       "      <td>...</td>\n",
       "      <td> AK</td>\n",
       "      <td> 2</td>\n",
       "      <td> Alaska</td>\n",
       "      <td> 1</td>\n",
       "      <td> 2014</td>\n",
       "      <td> 1</td>\n",
       "      <td> 1</td>\n",
       "      <td> 1</td>\n",
       "      <td> F</td>\n",
       "      <td>NaN</td>\n",
       "    </tr>\n",
       "    <tr>\n",
       "      <th>4</th>\n",
       "      <td> 0</td>\n",
       "      <td> 40</td>\n",
       "      <td> 4E</td>\n",
       "      <td> 20322</td>\n",
       "      <td> Tanana Air Service</td>\n",
       "      <td> 06969</td>\n",
       "      <td> D</td>\n",
       "      <td> 4E</td>\n",
       "      <td> Tanana Air Service</td>\n",
       "      <td> 1</td>\n",
       "      <td>...</td>\n",
       "      <td> AK</td>\n",
       "      <td> 2</td>\n",
       "      <td> Alaska</td>\n",
       "      <td> 1</td>\n",
       "      <td> 2014</td>\n",
       "      <td> 1</td>\n",
       "      <td> 1</td>\n",
       "      <td> 1</td>\n",
       "      <td> F</td>\n",
       "      <td>NaN</td>\n",
       "    </tr>\n",
       "  </tbody>\n",
       "</table>\n",
       "<p>5 rows × 35 columns</p>\n",
       "</div>"
      ],
      "text/plain": [
       "   PASSENGERS  DISTANCE UNIQUE_CARRIER  AIRLINE_ID UNIQUE_CARRIER_NAME  \\\n",
       "0           0        39             2O       20443  Island Air Service   \n",
       "1           0        78             2O       20443  Island Air Service   \n",
       "2           0        49             2O       20443  Island Air Service   \n",
       "3           0        30             2O       20443  Island Air Service   \n",
       "4           0        40             4E       20322  Tanana Air Service   \n",
       "\n",
       "  UNIQUE_CARRIER_ENTITY REGION CARRIER        CARRIER_NAME  CARRIER_GROUP  \\\n",
       "0                 06981      D      2O  Island Air Service              1   \n",
       "1                 06981      D      2O  Island Air Service              1   \n",
       "2                 06981      D      2O  Island Air Service              1   \n",
       "3                 06981      D      2O  Island Air Service              1   \n",
       "4                 06969      D      4E  Tanana Air Service              1   \n",
       "\n",
       "      ...       DEST_STATE_ABR  DEST_STATE_FIPS  DEST_STATE_NM  DEST_WAC  \\\n",
       "0     ...                   AK                2         Alaska         1   \n",
       "1     ...                   AK                2         Alaska         1   \n",
       "2     ...                   AK                2         Alaska         1   \n",
       "3     ...                   AK                2         Alaska         1   \n",
       "4     ...                   AK                2         Alaska         1   \n",
       "\n",
       "   YEAR QUARTER MONTH  DISTANCE_GROUP CLASS  Unnamed: 34  \n",
       "0  2014       1     1               1     F          NaN  \n",
       "1  2014       1     1               1     F          NaN  \n",
       "2  2014       1     1               1     F          NaN  \n",
       "3  2014       1     1               1     F          NaN  \n",
       "4  2014       1     1               1     F          NaN  \n",
       "\n",
       "[5 rows x 35 columns]"
      ]
     },
     "execution_count": 5,
     "metadata": {},
     "output_type": "execute_result"
    }
   ],
   "source": [
    "data.head()"
   ]
  },
  {
   "cell_type": "code",
   "execution_count": 6,
   "metadata": {
    "collapsed": false
   },
   "outputs": [
    {
     "data": {
      "text/plain": [
       "(256248, 35)"
      ]
     },
     "execution_count": 6,
     "metadata": {},
     "output_type": "execute_result"
    }
   ],
   "source": [
    "data.shape"
   ]
  },
  {
   "cell_type": "code",
   "execution_count": 7,
   "metadata": {
    "collapsed": false
   },
   "outputs": [
    {
     "data": {
      "text/plain": [
       "664984910.0"
      ]
     },
     "execution_count": 7,
     "metadata": {},
     "output_type": "execute_result"
    }
   ],
   "source": [
    "data['PASSENGERS'].sum()"
   ]
  },
  {
   "cell_type": "code",
   "execution_count": 9,
   "metadata": {
    "collapsed": false
   },
   "outputs": [
    {
     "data": {
      "text/plain": [
       "Index([u'PASSENGERS', u'DISTANCE', u'UNIQUE_CARRIER', u'AIRLINE_ID', u'UNIQUE_CARRIER_NAME', u'UNIQUE_CARRIER_ENTITY', u'REGION', u'CARRIER', u'CARRIER_NAME', u'CARRIER_GROUP', u'CARRIER_GROUP_NEW', u'ORIGIN_AIRPORT_ID', u'ORIGIN_AIRPORT_SEQ_ID', u'ORIGIN_CITY_MARKET_ID', u'ORIGIN', u'ORIGIN_CITY_NAME', u'ORIGIN_STATE_ABR', u'ORIGIN_STATE_FIPS', u'ORIGIN_STATE_NM', u'ORIGIN_WAC', u'DEST_AIRPORT_ID', u'DEST_AIRPORT_SEQ_ID', u'DEST_CITY_MARKET_ID', u'DEST', u'DEST_CITY_NAME', u'DEST_STATE_ABR', u'DEST_STATE_FIPS', u'DEST_STATE_NM', u'DEST_WAC', u'YEAR', u'QUARTER', u'MONTH', u'DISTANCE_GROUP', u'CLASS', u'Unnamed: 34'], dtype='object')"
      ]
     },
     "execution_count": 9,
     "metadata": {},
     "output_type": "execute_result"
    }
   ],
   "source": [
    "data.columns"
   ]
  },
  {
   "cell_type": "code",
   "execution_count": 23,
   "metadata": {
    "collapsed": false
   },
   "outputs": [
    {
     "name": "stdout",
     "output_type": "stream",
     "text": [
      "1058 destination cities\n",
      "1033 origin cities\n"
     ]
    }
   ],
   "source": [
    "dest_cities = data.DEST_CITY_NAME.unique().tolist()\n",
    "print str(len(dest_cities)) + ' destination cities'\n",
    "dest_cities.sort()\n",
    "\n",
    "orig_cities = data.ORIGIN_CITY_NAME.unique().tolist()\n",
    "print str(len(orig_cities)) + ' origin cities'\n",
    "orig_cities.sort()"
   ]
  },
  {
   "cell_type": "code",
   "execution_count": 133,
   "metadata": {
    "collapsed": false
   },
   "outputs": [],
   "source": [
    "grouped = data.groupby(['ORIGIN_CITY_NAME','DEST_CITY_NAME'])['PASSENGERS'].sum()"
   ]
  },
  {
   "cell_type": "code",
   "execution_count": 134,
   "metadata": {
    "collapsed": false
   },
   "outputs": [],
   "source": [
    "grouped.sort(ascending=False)"
   ]
  },
  {
   "cell_type": "code",
   "execution_count": 135,
   "metadata": {
    "collapsed": false
   },
   "outputs": [],
   "source": [
    "grouped = grouped.unstack(level=0)\n",
    "grouped = grouped.fillna(0)"
   ]
  },
  {
   "cell_type": "code",
   "execution_count": 136,
   "metadata": {
    "collapsed": false
   },
   "outputs": [
    {
     "data": {
      "text/plain": [
       "(1058, 1033)"
      ]
     },
     "execution_count": 136,
     "metadata": {},
     "output_type": "execute_result"
    }
   ],
   "source": [
    "grouped.shape"
   ]
  },
  {
   "cell_type": "code",
   "execution_count": 147,
   "metadata": {
    "collapsed": false
   },
   "outputs": [],
   "source": [
    "grouped['sum'] = grouped.sum()\n",
    "grouped.sort('sum', ascending=False, inplace=True)"
   ]
  },
  {
   "cell_type": "code",
   "execution_count": 152,
   "metadata": {
    "collapsed": false
   },
   "outputs": [
    {
     "data": {
      "text/plain": [
       "26388.0"
      ]
     },
     "execution_count": 152,
     "metadata": {},
     "output_type": "execute_result"
    }
   ],
   "source": [
    "grouped['Aberdeen, SD'].sum()"
   ]
  },
  {
   "cell_type": "code",
   "execution_count": 160,
   "metadata": {
    "collapsed": false
   },
   "outputs": [],
   "source": [
    "grouped.drop('sum', axis=1, inplace=True)"
   ]
  },
  {
   "cell_type": "code",
   "execution_count": 168,
   "metadata": {
    "collapsed": false
   },
   "outputs": [],
   "source": [
    "rows = grouped.sum(axis=0).order(ascending=False)"
   ]
  },
  {
   "cell_type": "code",
   "execution_count": 169,
   "metadata": {
    "collapsed": false,
    "scrolled": true
   },
   "outputs": [],
   "source": [
    "cols = grouped.sum(axis=1).order(ascending=False)"
   ]
  },
  {
   "cell_type": "code",
   "execution_count": 173,
   "metadata": {
    "collapsed": false
   },
   "outputs": [],
   "source": [
    "grouped = grouped.reindex_axis(rows.index, axis=0)\n",
    "grouped = grouped.reindex_axis(cols.index, axis=1)"
   ]
  },
  {
   "cell_type": "code",
   "execution_count": 174,
   "metadata": {
    "collapsed": false
   },
   "outputs": [
    {
     "data": {
      "text/html": [
       "<div style=\"max-height:1000px;max-width:1500px;overflow:auto;\">\n",
       "<table border=\"1\" class=\"dataframe\">\n",
       "  <thead>\n",
       "    <tr style=\"text-align: right;\">\n",
       "      <th>DEST_CITY_NAME</th>\n",
       "      <th>Atlanta, GA</th>\n",
       "      <th>Chicago, IL</th>\n",
       "      <th>Dallas/Fort Worth, TX</th>\n",
       "      <th>Los Angeles, CA</th>\n",
       "      <th>New York, NY</th>\n",
       "      <th>Denver, CO</th>\n",
       "      <th>Houston, TX</th>\n",
       "      <th>Charlotte, NC</th>\n",
       "      <th>Phoenix, AZ</th>\n",
       "      <th>Las Vegas, NV</th>\n",
       "      <th>...</th>\n",
       "      <th>Mojave, CA</th>\n",
       "      <th>Sparrevohn, AK</th>\n",
       "      <th>Kuparuk, AK</th>\n",
       "      <th>Jackson, MS</th>\n",
       "      <th>Inyokern, CA</th>\n",
       "      <th>Gallup, NM</th>\n",
       "      <th>Fort Dix, NJ</th>\n",
       "      <th>Gaylord, MI</th>\n",
       "      <th>Gila Bend, AZ</th>\n",
       "      <th>Watsonville, CA</th>\n",
       "    </tr>\n",
       "    <tr>\n",
       "      <th>ORIGIN_CITY_NAME</th>\n",
       "      <th></th>\n",
       "      <th></th>\n",
       "      <th></th>\n",
       "      <th></th>\n",
       "      <th></th>\n",
       "      <th></th>\n",
       "      <th></th>\n",
       "      <th></th>\n",
       "      <th></th>\n",
       "      <th></th>\n",
       "      <th></th>\n",
       "      <th></th>\n",
       "      <th></th>\n",
       "      <th></th>\n",
       "      <th></th>\n",
       "      <th></th>\n",
       "      <th></th>\n",
       "      <th></th>\n",
       "      <th></th>\n",
       "      <th></th>\n",
       "      <th></th>\n",
       "    </tr>\n",
       "  </thead>\n",
       "  <tbody>\n",
       "    <tr>\n",
       "      <th>Atlanta, GA</th>\n",
       "      <td>      56</td>\n",
       "      <td> 1227454</td>\n",
       "      <td>  989058</td>\n",
       "      <td>  897836</td>\n",
       "      <td> 1293127</td>\n",
       "      <td>  701878</td>\n",
       "      <td> 901042</td>\n",
       "      <td> 888865</td>\n",
       "      <td> 575834</td>\n",
       "      <td>  659568</td>\n",
       "      <td>...</td>\n",
       "      <td> 0</td>\n",
       "      <td> 0</td>\n",
       "      <td> 0</td>\n",
       "      <td> 0</td>\n",
       "      <td> 0</td>\n",
       "      <td> 0</td>\n",
       "      <td> 0</td>\n",
       "      <td> 0</td>\n",
       "      <td> 0</td>\n",
       "      <td>NaN</td>\n",
       "    </tr>\n",
       "    <tr>\n",
       "      <th>Chicago, IL</th>\n",
       "      <td> 1237623</td>\n",
       "      <td>     190</td>\n",
       "      <td>  964805</td>\n",
       "      <td> 1480121</td>\n",
       "      <td> 1921666</td>\n",
       "      <td> 1144416</td>\n",
       "      <td> 895274</td>\n",
       "      <td> 639975</td>\n",
       "      <td> 995254</td>\n",
       "      <td>  910572</td>\n",
       "      <td>...</td>\n",
       "      <td> 0</td>\n",
       "      <td> 0</td>\n",
       "      <td> 0</td>\n",
       "      <td> 0</td>\n",
       "      <td> 0</td>\n",
       "      <td> 0</td>\n",
       "      <td> 0</td>\n",
       "      <td> 0</td>\n",
       "      <td> 0</td>\n",
       "      <td>NaN</td>\n",
       "    </tr>\n",
       "    <tr>\n",
       "      <th>Dallas/Fort Worth, TX</th>\n",
       "      <td> 1016423</td>\n",
       "      <td>  972014</td>\n",
       "      <td>     530</td>\n",
       "      <td> 1153797</td>\n",
       "      <td>  840163</td>\n",
       "      <td>  855128</td>\n",
       "      <td> 666034</td>\n",
       "      <td> 612910</td>\n",
       "      <td> 655916</td>\n",
       "      <td>  659250</td>\n",
       "      <td>...</td>\n",
       "      <td> 0</td>\n",
       "      <td> 0</td>\n",
       "      <td> 0</td>\n",
       "      <td> 0</td>\n",
       "      <td> 0</td>\n",
       "      <td> 0</td>\n",
       "      <td> 0</td>\n",
       "      <td> 0</td>\n",
       "      <td> 0</td>\n",
       "      <td>NaN</td>\n",
       "    </tr>\n",
       "    <tr>\n",
       "      <th>Los Angeles, CA</th>\n",
       "      <td>  890942</td>\n",
       "      <td> 1441189</td>\n",
       "      <td> 1163039</td>\n",
       "      <td>       0</td>\n",
       "      <td> 1598786</td>\n",
       "      <td>  952554</td>\n",
       "      <td> 935741</td>\n",
       "      <td> 320907</td>\n",
       "      <td> 803514</td>\n",
       "      <td> 1187661</td>\n",
       "      <td>...</td>\n",
       "      <td> 0</td>\n",
       "      <td> 0</td>\n",
       "      <td> 0</td>\n",
       "      <td> 0</td>\n",
       "      <td> 0</td>\n",
       "      <td> 0</td>\n",
       "      <td> 0</td>\n",
       "      <td> 0</td>\n",
       "      <td> 0</td>\n",
       "      <td>NaN</td>\n",
       "    </tr>\n",
       "    <tr>\n",
       "      <th>New York, NY</th>\n",
       "      <td> 1297184</td>\n",
       "      <td> 1907583</td>\n",
       "      <td>  828679</td>\n",
       "      <td> 1617983</td>\n",
       "      <td>     696</td>\n",
       "      <td>  589705</td>\n",
       "      <td> 555443</td>\n",
       "      <td> 995873</td>\n",
       "      <td> 320654</td>\n",
       "      <td>  553163</td>\n",
       "      <td>...</td>\n",
       "      <td> 0</td>\n",
       "      <td> 0</td>\n",
       "      <td> 0</td>\n",
       "      <td> 0</td>\n",
       "      <td> 0</td>\n",
       "      <td> 0</td>\n",
       "      <td> 0</td>\n",
       "      <td> 0</td>\n",
       "      <td> 0</td>\n",
       "      <td>NaN</td>\n",
       "    </tr>\n",
       "  </tbody>\n",
       "</table>\n",
       "<p>5 rows × 1058 columns</p>\n",
       "</div>"
      ],
      "text/plain": [
       "DEST_CITY_NAME         Atlanta, GA  Chicago, IL  Dallas/Fort Worth, TX  \\\n",
       "ORIGIN_CITY_NAME                                                         \n",
       "Atlanta, GA                     56      1227454                 989058   \n",
       "Chicago, IL                1237623          190                 964805   \n",
       "Dallas/Fort Worth, TX      1016423       972014                    530   \n",
       "Los Angeles, CA             890942      1441189                1163039   \n",
       "New York, NY               1297184      1907583                 828679   \n",
       "\n",
       "DEST_CITY_NAME         Los Angeles, CA  New York, NY  Denver, CO  Houston, TX  \\\n",
       "ORIGIN_CITY_NAME                                                                \n",
       "Atlanta, GA                     897836       1293127      701878       901042   \n",
       "Chicago, IL                    1480121       1921666     1144416       895274   \n",
       "Dallas/Fort Worth, TX          1153797        840163      855128       666034   \n",
       "Los Angeles, CA                      0       1598786      952554       935741   \n",
       "New York, NY                   1617983           696      589705       555443   \n",
       "\n",
       "DEST_CITY_NAME         Charlotte, NC  Phoenix, AZ  Las Vegas, NV  \\\n",
       "ORIGIN_CITY_NAME                                                   \n",
       "Atlanta, GA                   888865       575834         659568   \n",
       "Chicago, IL                   639975       995254         910572   \n",
       "Dallas/Fort Worth, TX         612910       655916         659250   \n",
       "Los Angeles, CA               320907       803514        1187661   \n",
       "New York, NY                  995873       320654         553163   \n",
       "\n",
       "DEST_CITY_NAME              ...         Mojave, CA  Sparrevohn, AK  \\\n",
       "ORIGIN_CITY_NAME            ...                                      \n",
       "Atlanta, GA                 ...                  0               0   \n",
       "Chicago, IL                 ...                  0               0   \n",
       "Dallas/Fort Worth, TX       ...                  0               0   \n",
       "Los Angeles, CA             ...                  0               0   \n",
       "New York, NY                ...                  0               0   \n",
       "\n",
       "DEST_CITY_NAME         Kuparuk, AK  Jackson, MS  Inyokern, CA  Gallup, NM  \\\n",
       "ORIGIN_CITY_NAME                                                            \n",
       "Atlanta, GA                      0            0             0           0   \n",
       "Chicago, IL                      0            0             0           0   \n",
       "Dallas/Fort Worth, TX            0            0             0           0   \n",
       "Los Angeles, CA                  0            0             0           0   \n",
       "New York, NY                     0            0             0           0   \n",
       "\n",
       "DEST_CITY_NAME         Fort Dix, NJ  Gaylord, MI  Gila Bend, AZ  \\\n",
       "ORIGIN_CITY_NAME                                                  \n",
       "Atlanta, GA                       0            0              0   \n",
       "Chicago, IL                       0            0              0   \n",
       "Dallas/Fort Worth, TX             0            0              0   \n",
       "Los Angeles, CA                   0            0              0   \n",
       "New York, NY                      0            0              0   \n",
       "\n",
       "DEST_CITY_NAME         Watsonville, CA  \n",
       "ORIGIN_CITY_NAME                        \n",
       "Atlanta, GA                        NaN  \n",
       "Chicago, IL                        NaN  \n",
       "Dallas/Fort Worth, TX              NaN  \n",
       "Los Angeles, CA                    NaN  \n",
       "New York, NY                       NaN  \n",
       "\n",
       "[5 rows x 1058 columns]"
      ]
     },
     "execution_count": 174,
     "metadata": {},
     "output_type": "execute_result"
    }
   ],
   "source": [
    "grouped.head()"
   ]
  },
  {
   "cell_type": "code",
   "execution_count": 184,
   "metadata": {
    "collapsed": false
   },
   "outputs": [],
   "source": [
    "top_10 = grouped.ix[:10,:10]"
   ]
  },
  {
   "cell_type": "code",
   "execution_count": 186,
   "metadata": {
    "collapsed": false
   },
   "outputs": [
    {
     "data": {
      "text/html": [
       "<div style=\"max-height:1000px;max-width:1500px;overflow:auto;\">\n",
       "<table border=\"1\" class=\"dataframe\">\n",
       "  <thead>\n",
       "    <tr style=\"text-align: right;\">\n",
       "      <th>DEST_CITY_NAME</th>\n",
       "      <th>Atlanta, GA</th>\n",
       "      <th>Chicago, IL</th>\n",
       "      <th>Dallas/Fort Worth, TX</th>\n",
       "      <th>Los Angeles, CA</th>\n",
       "      <th>New York, NY</th>\n",
       "      <th>Denver, CO</th>\n",
       "      <th>Houston, TX</th>\n",
       "      <th>Charlotte, NC</th>\n",
       "      <th>Phoenix, AZ</th>\n",
       "      <th>Las Vegas, NV</th>\n",
       "    </tr>\n",
       "    <tr>\n",
       "      <th>ORIGIN_CITY_NAME</th>\n",
       "      <th></th>\n",
       "      <th></th>\n",
       "      <th></th>\n",
       "      <th></th>\n",
       "      <th></th>\n",
       "      <th></th>\n",
       "      <th></th>\n",
       "      <th></th>\n",
       "      <th></th>\n",
       "      <th></th>\n",
       "    </tr>\n",
       "  </thead>\n",
       "  <tbody>\n",
       "    <tr>\n",
       "      <th>Atlanta, GA</th>\n",
       "      <td>      56</td>\n",
       "      <td> 1227454</td>\n",
       "      <td>  989058</td>\n",
       "      <td>  897836</td>\n",
       "      <td> 1293127</td>\n",
       "      <td>  701878</td>\n",
       "      <td> 901042</td>\n",
       "      <td> 888865</td>\n",
       "      <td>  575834</td>\n",
       "      <td>  659568</td>\n",
       "    </tr>\n",
       "    <tr>\n",
       "      <th>Chicago, IL</th>\n",
       "      <td> 1237623</td>\n",
       "      <td>     190</td>\n",
       "      <td>  964805</td>\n",
       "      <td> 1480121</td>\n",
       "      <td> 1921666</td>\n",
       "      <td> 1144416</td>\n",
       "      <td> 895274</td>\n",
       "      <td> 639975</td>\n",
       "      <td>  995254</td>\n",
       "      <td>  910572</td>\n",
       "    </tr>\n",
       "    <tr>\n",
       "      <th>Dallas/Fort Worth, TX</th>\n",
       "      <td> 1016423</td>\n",
       "      <td>  972014</td>\n",
       "      <td>     530</td>\n",
       "      <td> 1153797</td>\n",
       "      <td>  840163</td>\n",
       "      <td>  855128</td>\n",
       "      <td> 666034</td>\n",
       "      <td> 612910</td>\n",
       "      <td>  655916</td>\n",
       "      <td>  659250</td>\n",
       "    </tr>\n",
       "    <tr>\n",
       "      <th>Los Angeles, CA</th>\n",
       "      <td>  890942</td>\n",
       "      <td> 1441189</td>\n",
       "      <td> 1163039</td>\n",
       "      <td>       0</td>\n",
       "      <td> 1598786</td>\n",
       "      <td>  952554</td>\n",
       "      <td> 935741</td>\n",
       "      <td> 320907</td>\n",
       "      <td>  803514</td>\n",
       "      <td> 1187661</td>\n",
       "    </tr>\n",
       "    <tr>\n",
       "      <th>New York, NY</th>\n",
       "      <td> 1297184</td>\n",
       "      <td> 1907583</td>\n",
       "      <td>  828679</td>\n",
       "      <td> 1617983</td>\n",
       "      <td>     696</td>\n",
       "      <td>  589705</td>\n",
       "      <td> 555443</td>\n",
       "      <td> 995873</td>\n",
       "      <td>  320654</td>\n",
       "      <td>  553163</td>\n",
       "    </tr>\n",
       "    <tr>\n",
       "      <th>Denver, CO</th>\n",
       "      <td>  705150</td>\n",
       "      <td> 1159791</td>\n",
       "      <td>  860948</td>\n",
       "      <td>  938658</td>\n",
       "      <td>  590103</td>\n",
       "      <td>       0</td>\n",
       "      <td> 907665</td>\n",
       "      <td> 297072</td>\n",
       "      <td> 1102545</td>\n",
       "      <td>  864486</td>\n",
       "    </tr>\n",
       "    <tr>\n",
       "      <th>Houston, TX</th>\n",
       "      <td>  917318</td>\n",
       "      <td>  895659</td>\n",
       "      <td>  679478</td>\n",
       "      <td>  911712</td>\n",
       "      <td>  556646</td>\n",
       "      <td>  929020</td>\n",
       "      <td>      0</td>\n",
       "      <td> 460871</td>\n",
       "      <td>  580698</td>\n",
       "      <td>  649302</td>\n",
       "    </tr>\n",
       "    <tr>\n",
       "      <th>Charlotte, NC</th>\n",
       "      <td>  888889</td>\n",
       "      <td>  651268</td>\n",
       "      <td>  597424</td>\n",
       "      <td>  335442</td>\n",
       "      <td>  987189</td>\n",
       "      <td>  303397</td>\n",
       "      <td> 464947</td>\n",
       "      <td>      0</td>\n",
       "      <td>  484535</td>\n",
       "      <td>  285709</td>\n",
       "    </tr>\n",
       "    <tr>\n",
       "      <th>Phoenix, AZ</th>\n",
       "      <td>  577818</td>\n",
       "      <td> 1024415</td>\n",
       "      <td>  667383</td>\n",
       "      <td>  795035</td>\n",
       "      <td>  319293</td>\n",
       "      <td> 1072726</td>\n",
       "      <td> 576931</td>\n",
       "      <td> 498528</td>\n",
       "      <td>      41</td>\n",
       "      <td>  681931</td>\n",
       "    </tr>\n",
       "    <tr>\n",
       "      <th>Las Vegas, NV</th>\n",
       "      <td>  659989</td>\n",
       "      <td>  932818</td>\n",
       "      <td>  681608</td>\n",
       "      <td> 1136116</td>\n",
       "      <td>  549536</td>\n",
       "      <td>  875879</td>\n",
       "      <td> 659948</td>\n",
       "      <td> 262282</td>\n",
       "      <td>  688019</td>\n",
       "      <td>    2428</td>\n",
       "    </tr>\n",
       "  </tbody>\n",
       "</table>\n",
       "</div>"
      ],
      "text/plain": [
       "DEST_CITY_NAME         Atlanta, GA  Chicago, IL  Dallas/Fort Worth, TX  \\\n",
       "ORIGIN_CITY_NAME                                                         \n",
       "Atlanta, GA                     56      1227454                 989058   \n",
       "Chicago, IL                1237623          190                 964805   \n",
       "Dallas/Fort Worth, TX      1016423       972014                    530   \n",
       "Los Angeles, CA             890942      1441189                1163039   \n",
       "New York, NY               1297184      1907583                 828679   \n",
       "Denver, CO                  705150      1159791                 860948   \n",
       "Houston, TX                 917318       895659                 679478   \n",
       "Charlotte, NC               888889       651268                 597424   \n",
       "Phoenix, AZ                 577818      1024415                 667383   \n",
       "Las Vegas, NV               659989       932818                 681608   \n",
       "\n",
       "DEST_CITY_NAME         Los Angeles, CA  New York, NY  Denver, CO  Houston, TX  \\\n",
       "ORIGIN_CITY_NAME                                                                \n",
       "Atlanta, GA                     897836       1293127      701878       901042   \n",
       "Chicago, IL                    1480121       1921666     1144416       895274   \n",
       "Dallas/Fort Worth, TX          1153797        840163      855128       666034   \n",
       "Los Angeles, CA                      0       1598786      952554       935741   \n",
       "New York, NY                   1617983           696      589705       555443   \n",
       "Denver, CO                      938658        590103           0       907665   \n",
       "Houston, TX                     911712        556646      929020            0   \n",
       "Charlotte, NC                   335442        987189      303397       464947   \n",
       "Phoenix, AZ                     795035        319293     1072726       576931   \n",
       "Las Vegas, NV                  1136116        549536      875879       659948   \n",
       "\n",
       "DEST_CITY_NAME         Charlotte, NC  Phoenix, AZ  Las Vegas, NV  \n",
       "ORIGIN_CITY_NAME                                                  \n",
       "Atlanta, GA                   888865       575834         659568  \n",
       "Chicago, IL                   639975       995254         910572  \n",
       "Dallas/Fort Worth, TX         612910       655916         659250  \n",
       "Los Angeles, CA               320907       803514        1187661  \n",
       "New York, NY                  995873       320654         553163  \n",
       "Denver, CO                    297072      1102545         864486  \n",
       "Houston, TX                   460871       580698         649302  \n",
       "Charlotte, NC                      0       484535         285709  \n",
       "Phoenix, AZ                   498528           41         681931  \n",
       "Las Vegas, NV                 262282       688019           2428  "
      ]
     },
     "execution_count": 186,
     "metadata": {},
     "output_type": "execute_result"
    }
   ],
   "source": [
    "top_10"
   ]
  },
  {
   "cell_type": "code",
   "execution_count": 189,
   "metadata": {
    "collapsed": true
   },
   "outputs": [],
   "source": [
    "colors = ['#9ACD32','#377DB8','#F5DEB3','#EE82EE','#40E0D0','#FF6347',\n",
    "'#D8BFD8','#D2B48C','#4682B4','#00FF7F','#FFFAFA','#708090'\n",
    ",'#708090'\n",
    ",'#6A5ACD'\n",
    ",'#87CEEB'\n",
    ",'#A0522D'\n",
    ",'#FFF5EE'\n",
    ",'#2E8B57'\n",
    ",'#F4A460'\n",
    ",'#FA8072']"
   ]
  },
  {
   "cell_type": "code",
   "execution_count": 198,
   "metadata": {
    "collapsed": false
   },
   "outputs": [],
   "source": [
    "top_10_cities = top_10.columns.tolist()"
   ]
  },
  {
   "cell_type": "code",
   "execution_count": 199,
   "metadata": {
    "collapsed": false
   },
   "outputs": [
    {
     "data": {
      "text/plain": [
       "['Atlanta, GA',\n",
       " 'Chicago, IL',\n",
       " 'Dallas/Fort Worth, TX',\n",
       " 'Los Angeles, CA',\n",
       " 'New York, NY',\n",
       " 'Denver, CO',\n",
       " 'Houston, TX',\n",
       " 'Charlotte, NC',\n",
       " 'Phoenix, AZ',\n",
       " 'Las Vegas, NV']"
      ]
     },
     "execution_count": 199,
     "metadata": {},
     "output_type": "execute_result"
    }
   ],
   "source": [
    "top_10_cities"
   ]
  },
  {
   "cell_type": "code",
   "execution_count": 201,
   "metadata": {
    "collapsed": false
   },
   "outputs": [
    {
     "data": {
      "text/plain": [
       "10"
      ]
     },
     "execution_count": 201,
     "metadata": {},
     "output_type": "execute_result"
    }
   ],
   "source": [
    "len(colors[:10])"
   ]
  },
  {
   "cell_type": "code",
   "execution_count": 203,
   "metadata": {
    "collapsed": false
   },
   "outputs": [],
   "source": [
    "cities = pd.DataFrame(top_10_cities, colors[:10])"
   ]
  },
  {
   "cell_type": "code",
   "execution_count": 204,
   "metadata": {
    "collapsed": false
   },
   "outputs": [
    {
     "data": {
      "text/html": [
       "<div style=\"max-height:1000px;max-width:1500px;overflow:auto;\">\n",
       "<table border=\"1\" class=\"dataframe\">\n",
       "  <thead>\n",
       "    <tr style=\"text-align: right;\">\n",
       "      <th></th>\n",
       "      <th>0</th>\n",
       "    </tr>\n",
       "  </thead>\n",
       "  <tbody>\n",
       "    <tr>\n",
       "      <th>#9ACD32</th>\n",
       "      <td>           Atlanta, GA</td>\n",
       "    </tr>\n",
       "    <tr>\n",
       "      <th>#377DB8</th>\n",
       "      <td>           Chicago, IL</td>\n",
       "    </tr>\n",
       "    <tr>\n",
       "      <th>#F5DEB3</th>\n",
       "      <td> Dallas/Fort Worth, TX</td>\n",
       "    </tr>\n",
       "    <tr>\n",
       "      <th>#EE82EE</th>\n",
       "      <td>       Los Angeles, CA</td>\n",
       "    </tr>\n",
       "    <tr>\n",
       "      <th>#40E0D0</th>\n",
       "      <td>          New York, NY</td>\n",
       "    </tr>\n",
       "    <tr>\n",
       "      <th>#FF6347</th>\n",
       "      <td>            Denver, CO</td>\n",
       "    </tr>\n",
       "    <tr>\n",
       "      <th>#D8BFD8</th>\n",
       "      <td>           Houston, TX</td>\n",
       "    </tr>\n",
       "    <tr>\n",
       "      <th>#D2B48C</th>\n",
       "      <td>         Charlotte, NC</td>\n",
       "    </tr>\n",
       "    <tr>\n",
       "      <th>#4682B4</th>\n",
       "      <td>           Phoenix, AZ</td>\n",
       "    </tr>\n",
       "    <tr>\n",
       "      <th>#00FF7F</th>\n",
       "      <td>         Las Vegas, NV</td>\n",
       "    </tr>\n",
       "  </tbody>\n",
       "</table>\n",
       "</div>"
      ],
      "text/plain": [
       "                             0\n",
       "#9ACD32            Atlanta, GA\n",
       "#377DB8            Chicago, IL\n",
       "#F5DEB3  Dallas/Fort Worth, TX\n",
       "#EE82EE        Los Angeles, CA\n",
       "#40E0D0           New York, NY\n",
       "#FF6347             Denver, CO\n",
       "#D8BFD8            Houston, TX\n",
       "#D2B48C          Charlotte, NC\n",
       "#4682B4            Phoenix, AZ\n",
       "#00FF7F          Las Vegas, NV"
      ]
     },
     "execution_count": 204,
     "metadata": {},
     "output_type": "execute_result"
    }
   ],
   "source": [
    "cities"
   ]
  },
  {
   "cell_type": "code",
   "execution_count": null,
   "metadata": {
    "collapsed": true
   },
   "outputs": [],
   "source": []
  }
 ],
 "metadata": {
  "kernelspec": {
   "display_name": "Python 2",
   "language": "python",
   "name": "python2"
  },
  "language_info": {
   "codemirror_mode": {
    "name": "ipython",
    "version": 2
   },
   "file_extension": ".py",
   "mimetype": "text/x-python",
   "name": "python",
   "nbconvert_exporter": "python",
   "pygments_lexer": "ipython2",
   "version": "2.7.9"
  }
 },
 "nbformat": 4,
 "nbformat_minor": 0
}
