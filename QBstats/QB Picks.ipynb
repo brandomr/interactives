{
 "metadata": {
  "name": "",
  "signature": "sha256:478b130505a44f86cad10aef70d9c64d28dc28cdd3aebc4a8a58063b2ae439f8"
 },
 "nbformat": 3,
 "nbformat_minor": 0,
 "worksheets": [
  {
   "cells": [
    {
     "cell_type": "code",
     "collapsed": false,
     "input": [
      "import pandas as pd"
     ],
     "language": "python",
     "metadata": {},
     "outputs": [],
     "prompt_number": 1
    },
    {
     "cell_type": "code",
     "collapsed": false,
     "input": [
      "picks = [{'name':'Jameis Winston',\n",
      "         'pick': 'round 1 pick 1',\n",
      "         '40yd dash': 4.97,\n",
      "         'vert jump': 28.5,\n",
      "         'broad jump': 103,\n",
      "         '3 cone drill': 7.16,\n",
      "         '20yd shuttle': 4.36},\n",
      "\n",
      "        {'name':'Marcus Mariota',\n",
      "         'pick': 'round 1 pick 2',\n",
      "         '40yd dash': 4.52,\n",
      "         'vert jump': 36,\n",
      "         'broad jump': 121,\n",
      "         '3 cone drill': 6.87,\n",
      "         '20yd shuttle': 4.11},\n",
      "\n",
      "        {'name':'Bryce Petty',\n",
      "         'pick': 'round 4 pick 4',\n",
      "         '40yd dash': 4.87,\n",
      "         'vert jump': 34,\n",
      "         'broad jump': 121,\n",
      "         '3 cone drill': 6.91,\n",
      "         '20yd shuttle': 4.13},\n",
      "\n",
      "        {'name':'Garret Grayson',\n",
      "         'pick': 'round 3 pick 11',\n",
      "         '40yd dash': 4.72,\n",
      "         'vert jump': 34,\n",
      "         'broad jump': 121,\n",
      "         '3 cone drill': 6.97,\n",
      "         '20yd shuttle': 4.35},\n",
      "\n",
      "        {'name':'Brett Hundley',\n",
      "         'pick': 'round 5 pick 11',\n",
      "         '40yd dash': 4.63,\n",
      "         'vert jump': 36,\n",
      "         'broad jump': 120,\n",
      "         '3 cone drill': 6.93,\n",
      "         '20yd shuttle': 3.98}]"
     ],
     "language": "python",
     "metadata": {},
     "outputs": [],
     "prompt_number": 10
    },
    {
     "cell_type": "code",
     "collapsed": false,
     "input": [
      "len(picks)"
     ],
     "language": "python",
     "metadata": {},
     "outputs": [
      {
       "metadata": {},
       "output_type": "pyout",
       "prompt_number": 12,
       "text": [
        "5"
       ]
      }
     ],
     "prompt_number": 12
    },
    {
     "cell_type": "code",
     "collapsed": false,
     "input": [
      "picks = pd.DataFrame(picks)"
     ],
     "language": "python",
     "metadata": {},
     "outputs": [],
     "prompt_number": 16
    },
    {
     "cell_type": "code",
     "collapsed": false,
     "input": [
      "picks"
     ],
     "language": "python",
     "metadata": {},
     "outputs": [
      {
       "html": [
        "<div style=\"max-height:1000px;max-width:1500px;overflow:auto;\">\n",
        "<table border=\"1\" class=\"dataframe\">\n",
        "  <thead>\n",
        "    <tr style=\"text-align: right;\">\n",
        "      <th></th>\n",
        "      <th>20yd shuttle</th>\n",
        "      <th>3 cone drill</th>\n",
        "      <th>40yd dash</th>\n",
        "      <th>broad jump</th>\n",
        "      <th>name</th>\n",
        "      <th>pick</th>\n",
        "      <th>vert jump</th>\n",
        "    </tr>\n",
        "  </thead>\n",
        "  <tbody>\n",
        "    <tr>\n",
        "      <th>0</th>\n",
        "      <td> 4.36</td>\n",
        "      <td> 7.16</td>\n",
        "      <td> 4.97</td>\n",
        "      <td> 103</td>\n",
        "      <td> Jameis Winston</td>\n",
        "      <td>  round 1 pick 1</td>\n",
        "      <td> 28.5</td>\n",
        "    </tr>\n",
        "    <tr>\n",
        "      <th>1</th>\n",
        "      <td> 4.11</td>\n",
        "      <td> 6.87</td>\n",
        "      <td> 4.52</td>\n",
        "      <td> 121</td>\n",
        "      <td> Marcus Mariota</td>\n",
        "      <td>  round 1 pick 2</td>\n",
        "      <td> 36.0</td>\n",
        "    </tr>\n",
        "    <tr>\n",
        "      <th>2</th>\n",
        "      <td> 4.13</td>\n",
        "      <td> 6.91</td>\n",
        "      <td> 4.87</td>\n",
        "      <td> 121</td>\n",
        "      <td>    Bryce Petty</td>\n",
        "      <td>  round 4 pick 4</td>\n",
        "      <td> 34.0</td>\n",
        "    </tr>\n",
        "    <tr>\n",
        "      <th>3</th>\n",
        "      <td> 4.35</td>\n",
        "      <td> 6.97</td>\n",
        "      <td> 4.72</td>\n",
        "      <td> 121</td>\n",
        "      <td> Garret Grayson</td>\n",
        "      <td> round 3 pick 11</td>\n",
        "      <td> 34.0</td>\n",
        "    </tr>\n",
        "    <tr>\n",
        "      <th>4</th>\n",
        "      <td> 3.98</td>\n",
        "      <td> 6.93</td>\n",
        "      <td> 4.63</td>\n",
        "      <td> 120</td>\n",
        "      <td>  Brett Hundley</td>\n",
        "      <td> round 5 pick 11</td>\n",
        "      <td> 36.0</td>\n",
        "    </tr>\n",
        "  </tbody>\n",
        "</table>\n",
        "</div>"
       ],
       "metadata": {},
       "output_type": "pyout",
       "prompt_number": 17,
       "text": [
        "   20yd shuttle  3 cone drill  40yd dash  broad jump            name  \\\n",
        "0          4.36          7.16       4.97         103  Jameis Winston   \n",
        "1          4.11          6.87       4.52         121  Marcus Mariota   \n",
        "2          4.13          6.91       4.87         121     Bryce Petty   \n",
        "3          4.35          6.97       4.72         121  Garret Grayson   \n",
        "4          3.98          6.93       4.63         120   Brett Hundley   \n",
        "\n",
        "              pick  vert jump  \n",
        "0   round 1 pick 1       28.5  \n",
        "1   round 1 pick 2       36.0  \n",
        "2   round 4 pick 4       34.0  \n",
        "3  round 3 pick 11       34.0  \n",
        "4  round 5 pick 11       36.0  "
       ]
      }
     ],
     "prompt_number": 17
    },
    {
     "cell_type": "code",
     "collapsed": false,
     "input": [
      "picks_norm = pd.DataFrame()"
     ],
     "language": "python",
     "metadata": {},
     "outputs": [],
     "prompt_number": 20
    },
    {
     "cell_type": "code",
     "collapsed": false,
     "input": [
      "picks_norm = picks.rank()\n",
      "picks_norm['name'] = picks['name']"
     ],
     "language": "python",
     "metadata": {},
     "outputs": [],
     "prompt_number": 27
    },
    {
     "cell_type": "code",
     "collapsed": false,
     "input": [
      "cols = [\n",
      " 'name',\n",
      " '40yd dash',\n",
      " 'vert jump',\n",
      " 'broad jump',\n",
      " '3 cone drill',\n",
      " '20yd shuttle',\n",
      " 'pick',\n",
      "]"
     ],
     "language": "python",
     "metadata": {},
     "outputs": [],
     "prompt_number": 52
    },
    {
     "cell_type": "code",
     "collapsed": false,
     "input": [
      "picks_norm = picks_norm[cols]"
     ],
     "language": "python",
     "metadata": {},
     "outputs": [],
     "prompt_number": 53
    },
    {
     "cell_type": "code",
     "collapsed": false,
     "input": [
      "picks_norm"
     ],
     "language": "python",
     "metadata": {},
     "outputs": [
      {
       "html": [
        "<div style=\"max-height:1000px;max-width:1500px;overflow:auto;\">\n",
        "<table border=\"1\" class=\"dataframe\">\n",
        "  <thead>\n",
        "    <tr style=\"text-align: right;\">\n",
        "      <th></th>\n",
        "      <th>name</th>\n",
        "      <th>40yd dash</th>\n",
        "      <th>vert jump</th>\n",
        "      <th>broad jump</th>\n",
        "      <th>3 cone drill</th>\n",
        "      <th>20yd shuttle</th>\n",
        "      <th>pick</th>\n",
        "    </tr>\n",
        "  </thead>\n",
        "  <tbody>\n",
        "    <tr>\n",
        "      <th>0</th>\n",
        "      <td> Jameis Winston</td>\n",
        "      <td> 5</td>\n",
        "      <td> 1.0</td>\n",
        "      <td> 1</td>\n",
        "      <td> 5</td>\n",
        "      <td> 5</td>\n",
        "      <td> 1</td>\n",
        "    </tr>\n",
        "    <tr>\n",
        "      <th>1</th>\n",
        "      <td> Marcus Mariota</td>\n",
        "      <td> 1</td>\n",
        "      <td> 4.5</td>\n",
        "      <td> 4</td>\n",
        "      <td> 1</td>\n",
        "      <td> 2</td>\n",
        "      <td> 2</td>\n",
        "    </tr>\n",
        "    <tr>\n",
        "      <th>2</th>\n",
        "      <td>    Bryce Petty</td>\n",
        "      <td> 4</td>\n",
        "      <td> 2.5</td>\n",
        "      <td> 4</td>\n",
        "      <td> 2</td>\n",
        "      <td> 3</td>\n",
        "      <td> 4</td>\n",
        "    </tr>\n",
        "    <tr>\n",
        "      <th>3</th>\n",
        "      <td> Garret Grayson</td>\n",
        "      <td> 3</td>\n",
        "      <td> 2.5</td>\n",
        "      <td> 4</td>\n",
        "      <td> 4</td>\n",
        "      <td> 4</td>\n",
        "      <td> 3</td>\n",
        "    </tr>\n",
        "    <tr>\n",
        "      <th>4</th>\n",
        "      <td>  Brett Hundley</td>\n",
        "      <td> 2</td>\n",
        "      <td> 4.5</td>\n",
        "      <td> 2</td>\n",
        "      <td> 3</td>\n",
        "      <td> 1</td>\n",
        "      <td> 5</td>\n",
        "    </tr>\n",
        "  </tbody>\n",
        "</table>\n",
        "</div>"
       ],
       "metadata": {},
       "output_type": "pyout",
       "prompt_number": 54,
       "text": [
        "             name  40yd dash  vert jump  broad jump  3 cone drill  \\\n",
        "0  Jameis Winston          5        1.0           1             5   \n",
        "1  Marcus Mariota          1        4.5           4             1   \n",
        "2     Bryce Petty          4        2.5           4             2   \n",
        "3  Garret Grayson          3        2.5           4             4   \n",
        "4   Brett Hundley          2        4.5           2             3   \n",
        "\n",
        "   20yd shuttle  pick  \n",
        "0             5     1  \n",
        "1             2     2  \n",
        "2             3     4  \n",
        "3             4     3  \n",
        "4             1     5  "
       ]
      }
     ],
     "prompt_number": 54
    },
    {
     "cell_type": "code",
     "collapsed": false,
     "input": [
      "for i in range(0,5):\n",
      "    print picks_norm.ix[i].tolist()"
     ],
     "language": "python",
     "metadata": {},
     "outputs": [
      {
       "output_type": "stream",
       "stream": "stdout",
       "text": [
        "['Jameis Winston', 5.0, 1.0, 1.0, 5.0, 5.0, 1.0]\n",
        "['Marcus Mariota', 1.0, 4.5, 4.0, 1.0, 2.0, 2.0]\n",
        "['Bryce Petty', 4.0, 2.5, 4.0, 2.0, 3.0, 4.0]\n",
        "['Garret Grayson', 3.0, 2.5, 4.0, 4.0, 4.0, 3.0]\n",
        "['Brett Hundley', 2.0, 4.5, 2.0, 3.0, 1.0, 5.0]\n"
       ]
      }
     ],
     "prompt_number": 56
    },
    {
     "cell_type": "code",
     "collapsed": false,
     "input": [
      "pwd"
     ],
     "language": "python",
     "metadata": {},
     "outputs": [
      {
       "metadata": {},
       "output_type": "pyout",
       "prompt_number": 47,
       "text": [
        "u'/Users/brandomr/GoogleDrive/Data Society/D3 Course/interactives-course/QBstats'"
       ]
      }
     ],
     "prompt_number": 47
    },
    {
     "cell_type": "code",
     "collapsed": false,
     "input": [],
     "language": "python",
     "metadata": {},
     "outputs": []
    }
   ],
   "metadata": {}
  }
 ]
}